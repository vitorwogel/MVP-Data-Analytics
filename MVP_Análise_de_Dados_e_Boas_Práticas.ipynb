{
  "nbformat": 4,
  "nbformat_minor": 0,
  "metadata": {
    "colab": {
      "provenance": [],
      "include_colab_link": true
    },
    "kernelspec": {
      "name": "python3",
      "display_name": "Python 3"
    },
    "language_info": {
      "name": "python"
    }
  },
  "cells": [
    {
      "cell_type": "markdown",
      "metadata": {
        "id": "view-in-github",
        "colab_type": "text"
      },
      "source": [
        "<a href=\"https://colab.research.google.com/github/vitorwogel/MVP-Data-Analytics/blob/main/MVP_An%C3%A1lise_de_Dados_e_Boas_Pr%C3%A1ticas.ipynb\" target=\"_parent\"><img src=\"https://colab.research.google.com/assets/colab-badge.svg\" alt=\"Open In Colab\"/></a>"
      ]
    },
    {
      "cell_type": "markdown",
      "source": [
        "# MVP Análise de Dados e Boas Práticas\n",
        "\n",
        "**Nome:** Vitor André B. Wogel Costa\n",
        "\n",
        "**Dataset:** [English Premier League - Player Stats - 24/25](https://www.kaggle.com/datasets/aesika/english-premier-league-player-stats-2425)\n",
        "\n",
        "**---OBSERVAÇÕES IMPORTANTES---**\n",
        "\n",
        " Encorajamos você a usar a estrutura base deste Notebook para a construção das suas análises, já que ela contempla grande parte das sugestões do checklist no enunciado do MVP. Contudo, vale ressaltar que é necessário realizar mais etapas e análises, além das apresentadas neste notebook. É fundamental ter profundidade nas discussões e análises propostas, construindo um storytelling cativante que explore os principais conceitos e técnicas vistos nas aulas de Análise de Dados e Boas Práticas.\n",
        "\n",
        " **------**"
      ],
      "metadata": {
        "id": "cmYX3PLx58Jg"
      }
    },
    {
      "cell_type": "markdown",
      "source": [
        "# Descrição do Problema\n",
        "\n",
        "No futebol, além do talento dos jogadores, existem áreas de estudo sobre o jogo, como a análise de dados, que buscam responder questões relevantes para que as equipes se apoiem nos resultados obtidos para tomadas de decisão.\n",
        "\n",
        "Este trabalho, baseado no dataset [English Premier League - Player Stats - 24/25](https://www.kaggle.com/datasets/aesika/english-premier-league-player-stats-2425), disponibilizado no Kaggle, tem como objetivo analisar e descrever as características mais relevantes a um atleta de futebol que o levam a marcar mais gols."
      ],
      "metadata": {
        "id": "YW_JS-EEBFaR"
      }
    },
    {
      "cell_type": "markdown",
      "source": [
        "## Hipóteses do Problema\n",
        "\n",
        "As hipóteses que tracei são as seguintes:\n",
        "\n",
        "- Existe um conjunto de características comuns aos maiores artilheiros?\n",
        "\n",
        "- É possível agrupar jogadores com características comuns e definir aqueles com maior tendência de marcar gol?"
      ],
      "metadata": {
        "id": "Gm6mOo5PBYwr"
      }
    },
    {
      "cell_type": "markdown",
      "source": [
        "## Tipo de Problema\n",
        "\n",
        "Este é um problema de **aprendizado não supervisionado**, onde se busca compreender padrões entre os diferentes jogadores e agrupá-los de forma a entender quais são aqueles mais propensos a marcar gols."
      ],
      "metadata": {
        "id": "x1zNNZt6BfdF"
      }
    },
    {
      "cell_type": "markdown",
      "source": [
        "## Seleção de Dados\n",
        "\n",
        "O dataset escolhido é composto por 562 jogadores de todos os times da principal divisão da liga inglesa de futebol. Além disso, 57 colunas definem o conjunto global de características individuais de cada jogador, sendo grande parte numérica.\n",
        "\n",
        "Com isso, é esperado que hajam exemplos e variáveis suficientes para fazer uma boa análise exploratória e conseguir responder de forma assertiva as perguntas elencadas na definição e hipóteses do problema."
      ],
      "metadata": {
        "id": "N91bTLbiBxrm"
      }
    },
    {
      "cell_type": "markdown",
      "source": [
        "## Atributos do Dataset\n",
        "\n",
        "**A definir o conjunto principal de características que será utilizado**"
      ],
      "metadata": {
        "id": "FC6QJHhWBnzH"
      }
    },
    {
      "cell_type": "markdown",
      "source": [
        "# Importação das Bibliotecas Necessárias e Carga de Dados\n",
        "\n",
        "Esta seção consolida todas as importações de bibliotecas necessárias para a análise, visualização e pré-processamento dos dados, bem como o carregamento inicial do dataset Iris."
      ],
      "metadata": {
        "id": "DObGnkf0bJBh"
      }
    },
    {
      "cell_type": "code",
      "source": [
        "import pandas as pd\n",
        "import matplotlib.pyplot as plt\n",
        "import seaborn as sns"
      ],
      "metadata": {
        "id": "tCohWn2jbkDB"
      },
      "execution_count": 1,
      "outputs": []
    },
    {
      "cell_type": "code",
      "source": [
        "# carregamento do dataset\n",
        "url = \"https://raw.githubusercontent.com/vitorwogel/MVP-Data-Analytics/main/epl_player_stats_24_25.csv\"\n",
        "df = pd.read_csv(url)"
      ],
      "metadata": {
        "id": "BIokzI3xb8_t"
      },
      "execution_count": 2,
      "outputs": []
    },
    {
      "cell_type": "code",
      "source": [
        "# primeiras linhas\n",
        "df.head()"
      ],
      "metadata": {
        "colab": {
          "base_uri": "https://localhost:8080/",
          "height": 377
        },
        "id": "AKb_BDQ6E6sR",
        "outputId": "1af9c364-3d6c-415f-ab36-e32b413c73bf"
      },
      "execution_count": 3,
      "outputs": [
        {
          "output_type": "execute_result",
          "data": {
            "text/plain": [
              "     Player Name     Club Nationality Position  Appearances  Minutes  Goals  \\\n",
              "0      Ben White  Arsenal     England      DEF           17     1198      0   \n",
              "1    Bukayo Saka  Arsenal     England      MID           25     1735      6   \n",
              "2     David Raya  Arsenal       Spain      GKP           38     3420      0   \n",
              "3    Declan Rice  Arsenal     England      MID           35     2833      4   \n",
              "4  Ethan Nwaneri  Arsenal     England      MID           26      889      4   \n",
              "\n",
              "   Assists  Shots  Shots On Target  ... Fouls  Yellow Cards  Red Cards  Saves  \\\n",
              "0        2      9               12  ...    10             2          0      0   \n",
              "1       10     67                2  ...    15             3          0      0   \n",
              "2        0      0                0  ...     1             3          0     86   \n",
              "3        7     48               18  ...    21             5          1      0   \n",
              "4        0     24                0  ...     9             1          0      0   \n",
              "\n",
              "   Saves %  Penalties Saved  Clearances Off Line Punches  High Claims  \\\n",
              "0       0%                0                    0       0            0   \n",
              "1       0%                0                    0       0            0   \n",
              "2      72%                0                    0       8           53   \n",
              "3       0%                0                    0       0            0   \n",
              "4       0%                0                    0       0            0   \n",
              "\n",
              "   Goals Prevented  \n",
              "0              0.0  \n",
              "1              0.0  \n",
              "2              2.1  \n",
              "3              0.0  \n",
              "4              0.0  \n",
              "\n",
              "[5 rows x 57 columns]"
            ],
            "text/html": [
              "\n",
              "  <div id=\"df-39b68bda-78c2-4d52-8b61-e98989aaeb47\" class=\"colab-df-container\">\n",
              "    <div>\n",
              "<style scoped>\n",
              "    .dataframe tbody tr th:only-of-type {\n",
              "        vertical-align: middle;\n",
              "    }\n",
              "\n",
              "    .dataframe tbody tr th {\n",
              "        vertical-align: top;\n",
              "    }\n",
              "\n",
              "    .dataframe thead th {\n",
              "        text-align: right;\n",
              "    }\n",
              "</style>\n",
              "<table border=\"1\" class=\"dataframe\">\n",
              "  <thead>\n",
              "    <tr style=\"text-align: right;\">\n",
              "      <th></th>\n",
              "      <th>Player Name</th>\n",
              "      <th>Club</th>\n",
              "      <th>Nationality</th>\n",
              "      <th>Position</th>\n",
              "      <th>Appearances</th>\n",
              "      <th>Minutes</th>\n",
              "      <th>Goals</th>\n",
              "      <th>Assists</th>\n",
              "      <th>Shots</th>\n",
              "      <th>Shots On Target</th>\n",
              "      <th>...</th>\n",
              "      <th>Fouls</th>\n",
              "      <th>Yellow Cards</th>\n",
              "      <th>Red Cards</th>\n",
              "      <th>Saves</th>\n",
              "      <th>Saves %</th>\n",
              "      <th>Penalties Saved</th>\n",
              "      <th>Clearances Off Line</th>\n",
              "      <th>Punches</th>\n",
              "      <th>High Claims</th>\n",
              "      <th>Goals Prevented</th>\n",
              "    </tr>\n",
              "  </thead>\n",
              "  <tbody>\n",
              "    <tr>\n",
              "      <th>0</th>\n",
              "      <td>Ben White</td>\n",
              "      <td>Arsenal</td>\n",
              "      <td>England</td>\n",
              "      <td>DEF</td>\n",
              "      <td>17</td>\n",
              "      <td>1198</td>\n",
              "      <td>0</td>\n",
              "      <td>2</td>\n",
              "      <td>9</td>\n",
              "      <td>12</td>\n",
              "      <td>...</td>\n",
              "      <td>10</td>\n",
              "      <td>2</td>\n",
              "      <td>0</td>\n",
              "      <td>0</td>\n",
              "      <td>0%</td>\n",
              "      <td>0</td>\n",
              "      <td>0</td>\n",
              "      <td>0</td>\n",
              "      <td>0</td>\n",
              "      <td>0.0</td>\n",
              "    </tr>\n",
              "    <tr>\n",
              "      <th>1</th>\n",
              "      <td>Bukayo Saka</td>\n",
              "      <td>Arsenal</td>\n",
              "      <td>England</td>\n",
              "      <td>MID</td>\n",
              "      <td>25</td>\n",
              "      <td>1735</td>\n",
              "      <td>6</td>\n",
              "      <td>10</td>\n",
              "      <td>67</td>\n",
              "      <td>2</td>\n",
              "      <td>...</td>\n",
              "      <td>15</td>\n",
              "      <td>3</td>\n",
              "      <td>0</td>\n",
              "      <td>0</td>\n",
              "      <td>0%</td>\n",
              "      <td>0</td>\n",
              "      <td>0</td>\n",
              "      <td>0</td>\n",
              "      <td>0</td>\n",
              "      <td>0.0</td>\n",
              "    </tr>\n",
              "    <tr>\n",
              "      <th>2</th>\n",
              "      <td>David Raya</td>\n",
              "      <td>Arsenal</td>\n",
              "      <td>Spain</td>\n",
              "      <td>GKP</td>\n",
              "      <td>38</td>\n",
              "      <td>3420</td>\n",
              "      <td>0</td>\n",
              "      <td>0</td>\n",
              "      <td>0</td>\n",
              "      <td>0</td>\n",
              "      <td>...</td>\n",
              "      <td>1</td>\n",
              "      <td>3</td>\n",
              "      <td>0</td>\n",
              "      <td>86</td>\n",
              "      <td>72%</td>\n",
              "      <td>0</td>\n",
              "      <td>0</td>\n",
              "      <td>8</td>\n",
              "      <td>53</td>\n",
              "      <td>2.1</td>\n",
              "    </tr>\n",
              "    <tr>\n",
              "      <th>3</th>\n",
              "      <td>Declan Rice</td>\n",
              "      <td>Arsenal</td>\n",
              "      <td>England</td>\n",
              "      <td>MID</td>\n",
              "      <td>35</td>\n",
              "      <td>2833</td>\n",
              "      <td>4</td>\n",
              "      <td>7</td>\n",
              "      <td>48</td>\n",
              "      <td>18</td>\n",
              "      <td>...</td>\n",
              "      <td>21</td>\n",
              "      <td>5</td>\n",
              "      <td>1</td>\n",
              "      <td>0</td>\n",
              "      <td>0%</td>\n",
              "      <td>0</td>\n",
              "      <td>0</td>\n",
              "      <td>0</td>\n",
              "      <td>0</td>\n",
              "      <td>0.0</td>\n",
              "    </tr>\n",
              "    <tr>\n",
              "      <th>4</th>\n",
              "      <td>Ethan Nwaneri</td>\n",
              "      <td>Arsenal</td>\n",
              "      <td>England</td>\n",
              "      <td>MID</td>\n",
              "      <td>26</td>\n",
              "      <td>889</td>\n",
              "      <td>4</td>\n",
              "      <td>0</td>\n",
              "      <td>24</td>\n",
              "      <td>0</td>\n",
              "      <td>...</td>\n",
              "      <td>9</td>\n",
              "      <td>1</td>\n",
              "      <td>0</td>\n",
              "      <td>0</td>\n",
              "      <td>0%</td>\n",
              "      <td>0</td>\n",
              "      <td>0</td>\n",
              "      <td>0</td>\n",
              "      <td>0</td>\n",
              "      <td>0.0</td>\n",
              "    </tr>\n",
              "  </tbody>\n",
              "</table>\n",
              "<p>5 rows × 57 columns</p>\n",
              "</div>\n",
              "    <div class=\"colab-df-buttons\">\n",
              "\n",
              "  <div class=\"colab-df-container\">\n",
              "    <button class=\"colab-df-convert\" onclick=\"convertToInteractive('df-39b68bda-78c2-4d52-8b61-e98989aaeb47')\"\n",
              "            title=\"Convert this dataframe to an interactive table.\"\n",
              "            style=\"display:none;\">\n",
              "\n",
              "  <svg xmlns=\"http://www.w3.org/2000/svg\" height=\"24px\" viewBox=\"0 -960 960 960\">\n",
              "    <path d=\"M120-120v-720h720v720H120Zm60-500h600v-160H180v160Zm220 220h160v-160H400v160Zm0 220h160v-160H400v160ZM180-400h160v-160H180v160Zm440 0h160v-160H620v160ZM180-180h160v-160H180v160Zm440 0h160v-160H620v160Z\"/>\n",
              "  </svg>\n",
              "    </button>\n",
              "\n",
              "  <style>\n",
              "    .colab-df-container {\n",
              "      display:flex;\n",
              "      gap: 12px;\n",
              "    }\n",
              "\n",
              "    .colab-df-convert {\n",
              "      background-color: #E8F0FE;\n",
              "      border: none;\n",
              "      border-radius: 50%;\n",
              "      cursor: pointer;\n",
              "      display: none;\n",
              "      fill: #1967D2;\n",
              "      height: 32px;\n",
              "      padding: 0 0 0 0;\n",
              "      width: 32px;\n",
              "    }\n",
              "\n",
              "    .colab-df-convert:hover {\n",
              "      background-color: #E2EBFA;\n",
              "      box-shadow: 0px 1px 2px rgba(60, 64, 67, 0.3), 0px 1px 3px 1px rgba(60, 64, 67, 0.15);\n",
              "      fill: #174EA6;\n",
              "    }\n",
              "\n",
              "    .colab-df-buttons div {\n",
              "      margin-bottom: 4px;\n",
              "    }\n",
              "\n",
              "    [theme=dark] .colab-df-convert {\n",
              "      background-color: #3B4455;\n",
              "      fill: #D2E3FC;\n",
              "    }\n",
              "\n",
              "    [theme=dark] .colab-df-convert:hover {\n",
              "      background-color: #434B5C;\n",
              "      box-shadow: 0px 1px 3px 1px rgba(0, 0, 0, 0.15);\n",
              "      filter: drop-shadow(0px 1px 2px rgba(0, 0, 0, 0.3));\n",
              "      fill: #FFFFFF;\n",
              "    }\n",
              "  </style>\n",
              "\n",
              "    <script>\n",
              "      const buttonEl =\n",
              "        document.querySelector('#df-39b68bda-78c2-4d52-8b61-e98989aaeb47 button.colab-df-convert');\n",
              "      buttonEl.style.display =\n",
              "        google.colab.kernel.accessAllowed ? 'block' : 'none';\n",
              "\n",
              "      async function convertToInteractive(key) {\n",
              "        const element = document.querySelector('#df-39b68bda-78c2-4d52-8b61-e98989aaeb47');\n",
              "        const dataTable =\n",
              "          await google.colab.kernel.invokeFunction('convertToInteractive',\n",
              "                                                    [key], {});\n",
              "        if (!dataTable) return;\n",
              "\n",
              "        const docLinkHtml = 'Like what you see? Visit the ' +\n",
              "          '<a target=\"_blank\" href=https://colab.research.google.com/notebooks/data_table.ipynb>data table notebook</a>'\n",
              "          + ' to learn more about interactive tables.';\n",
              "        element.innerHTML = '';\n",
              "        dataTable['output_type'] = 'display_data';\n",
              "        await google.colab.output.renderOutput(dataTable, element);\n",
              "        const docLink = document.createElement('div');\n",
              "        docLink.innerHTML = docLinkHtml;\n",
              "        element.appendChild(docLink);\n",
              "      }\n",
              "    </script>\n",
              "  </div>\n",
              "\n",
              "\n",
              "    <div id=\"df-05e63ae4-8b94-4834-9996-4c785631fe8a\">\n",
              "      <button class=\"colab-df-quickchart\" onclick=\"quickchart('df-05e63ae4-8b94-4834-9996-4c785631fe8a')\"\n",
              "                title=\"Suggest charts\"\n",
              "                style=\"display:none;\">\n",
              "\n",
              "<svg xmlns=\"http://www.w3.org/2000/svg\" height=\"24px\"viewBox=\"0 0 24 24\"\n",
              "     width=\"24px\">\n",
              "    <g>\n",
              "        <path d=\"M19 3H5c-1.1 0-2 .9-2 2v14c0 1.1.9 2 2 2h14c1.1 0 2-.9 2-2V5c0-1.1-.9-2-2-2zM9 17H7v-7h2v7zm4 0h-2V7h2v10zm4 0h-2v-4h2v4z\"/>\n",
              "    </g>\n",
              "</svg>\n",
              "      </button>\n",
              "\n",
              "<style>\n",
              "  .colab-df-quickchart {\n",
              "      --bg-color: #E8F0FE;\n",
              "      --fill-color: #1967D2;\n",
              "      --hover-bg-color: #E2EBFA;\n",
              "      --hover-fill-color: #174EA6;\n",
              "      --disabled-fill-color: #AAA;\n",
              "      --disabled-bg-color: #DDD;\n",
              "  }\n",
              "\n",
              "  [theme=dark] .colab-df-quickchart {\n",
              "      --bg-color: #3B4455;\n",
              "      --fill-color: #D2E3FC;\n",
              "      --hover-bg-color: #434B5C;\n",
              "      --hover-fill-color: #FFFFFF;\n",
              "      --disabled-bg-color: #3B4455;\n",
              "      --disabled-fill-color: #666;\n",
              "  }\n",
              "\n",
              "  .colab-df-quickchart {\n",
              "    background-color: var(--bg-color);\n",
              "    border: none;\n",
              "    border-radius: 50%;\n",
              "    cursor: pointer;\n",
              "    display: none;\n",
              "    fill: var(--fill-color);\n",
              "    height: 32px;\n",
              "    padding: 0;\n",
              "    width: 32px;\n",
              "  }\n",
              "\n",
              "  .colab-df-quickchart:hover {\n",
              "    background-color: var(--hover-bg-color);\n",
              "    box-shadow: 0 1px 2px rgba(60, 64, 67, 0.3), 0 1px 3px 1px rgba(60, 64, 67, 0.15);\n",
              "    fill: var(--button-hover-fill-color);\n",
              "  }\n",
              "\n",
              "  .colab-df-quickchart-complete:disabled,\n",
              "  .colab-df-quickchart-complete:disabled:hover {\n",
              "    background-color: var(--disabled-bg-color);\n",
              "    fill: var(--disabled-fill-color);\n",
              "    box-shadow: none;\n",
              "  }\n",
              "\n",
              "  .colab-df-spinner {\n",
              "    border: 2px solid var(--fill-color);\n",
              "    border-color: transparent;\n",
              "    border-bottom-color: var(--fill-color);\n",
              "    animation:\n",
              "      spin 1s steps(1) infinite;\n",
              "  }\n",
              "\n",
              "  @keyframes spin {\n",
              "    0% {\n",
              "      border-color: transparent;\n",
              "      border-bottom-color: var(--fill-color);\n",
              "      border-left-color: var(--fill-color);\n",
              "    }\n",
              "    20% {\n",
              "      border-color: transparent;\n",
              "      border-left-color: var(--fill-color);\n",
              "      border-top-color: var(--fill-color);\n",
              "    }\n",
              "    30% {\n",
              "      border-color: transparent;\n",
              "      border-left-color: var(--fill-color);\n",
              "      border-top-color: var(--fill-color);\n",
              "      border-right-color: var(--fill-color);\n",
              "    }\n",
              "    40% {\n",
              "      border-color: transparent;\n",
              "      border-right-color: var(--fill-color);\n",
              "      border-top-color: var(--fill-color);\n",
              "    }\n",
              "    60% {\n",
              "      border-color: transparent;\n",
              "      border-right-color: var(--fill-color);\n",
              "    }\n",
              "    80% {\n",
              "      border-color: transparent;\n",
              "      border-right-color: var(--fill-color);\n",
              "      border-bottom-color: var(--fill-color);\n",
              "    }\n",
              "    90% {\n",
              "      border-color: transparent;\n",
              "      border-bottom-color: var(--fill-color);\n",
              "    }\n",
              "  }\n",
              "</style>\n",
              "\n",
              "      <script>\n",
              "        async function quickchart(key) {\n",
              "          const quickchartButtonEl =\n",
              "            document.querySelector('#' + key + ' button');\n",
              "          quickchartButtonEl.disabled = true;  // To prevent multiple clicks.\n",
              "          quickchartButtonEl.classList.add('colab-df-spinner');\n",
              "          try {\n",
              "            const charts = await google.colab.kernel.invokeFunction(\n",
              "                'suggestCharts', [key], {});\n",
              "          } catch (error) {\n",
              "            console.error('Error during call to suggestCharts:', error);\n",
              "          }\n",
              "          quickchartButtonEl.classList.remove('colab-df-spinner');\n",
              "          quickchartButtonEl.classList.add('colab-df-quickchart-complete');\n",
              "        }\n",
              "        (() => {\n",
              "          let quickchartButtonEl =\n",
              "            document.querySelector('#df-05e63ae4-8b94-4834-9996-4c785631fe8a button');\n",
              "          quickchartButtonEl.style.display =\n",
              "            google.colab.kernel.accessAllowed ? 'block' : 'none';\n",
              "        })();\n",
              "      </script>\n",
              "    </div>\n",
              "\n",
              "    </div>\n",
              "  </div>\n"
            ],
            "application/vnd.google.colaboratory.intrinsic+json": {
              "type": "dataframe",
              "variable_name": "df"
            }
          },
          "metadata": {},
          "execution_count": 3
        }
      ]
    },
    {
      "cell_type": "markdown",
      "source": [
        "# Análise de Dados\n",
        "\n",
        "Nesta etapa de Análise de Dados Exploratória (EDA) sobre o dataset selecionado, visamos entender a distribuição, as relações e as características das variáveis, o que é crucial para as etapas subsequentes de pré-processamento e modelagem."
      ],
      "metadata": {
        "id": "XcHpQ9s_B4n1"
      }
    },
    {
      "cell_type": "markdown",
      "source": [
        "## Total e Tipo das Instâncias\n",
        "\n",
        "O dataset escolhido possui 562 instâncias (observações), com diversas características diferentes, das quais nem todas serão utilizadas por não representarem de forma objetiva correlação com a variável principal (*Goals*).\n",
        "\n",
        "Quatro variáveis que identificam os jogadores individualmente são categóricas (*Player name*, *Club*, *Nationality* e *Position*), além dessas, existem outras variáveis referentes a porcertagem que estão classificadas como categóricas, no entando será avaliada a possibilidade de estas serem discretizadas."
      ],
      "metadata": {
        "id": "5kuan1F5EA8J"
      }
    },
    {
      "cell_type": "code",
      "source": [
        "print(f\"Total de instâncias: {len(df)}\")\n",
        "print(\"\\nTipos de dados por coluna:\")\n",
        "print(df.info())"
      ],
      "metadata": {
        "id": "3asH5qmbHKVe",
        "colab": {
          "base_uri": "https://localhost:8080/"
        },
        "outputId": "f9afcff1-dcd7-43d4-9fd9-39a88167eb28"
      },
      "execution_count": 9,
      "outputs": [
        {
          "output_type": "stream",
          "name": "stdout",
          "text": [
            "Total de instâncias: 517\n",
            "\n",
            "Tipos de dados por coluna:\n",
            "<class 'pandas.core.frame.DataFrame'>\n",
            "Index: 517 entries, 0 to 561\n",
            "Data columns (total 33 columns):\n",
            " #   Column                     Non-Null Count  Dtype \n",
            "---  ------                     --------------  ----- \n",
            " 0   Player Name                517 non-null    object\n",
            " 1   Club                       517 non-null    object\n",
            " 2   Nationality                517 non-null    object\n",
            " 3   Position                   517 non-null    object\n",
            " 4   Appearances                517 non-null    int64 \n",
            " 5   Minutes                    517 non-null    int64 \n",
            " 6   Goals                      517 non-null    int64 \n",
            " 7   Assists                    517 non-null    int64 \n",
            " 8   Shots                      517 non-null    int64 \n",
            " 9   Shots On Target            517 non-null    int64 \n",
            " 10  Conversion %               517 non-null    object\n",
            " 11  Big Chances Missed         517 non-null    int64 \n",
            " 12  Hit Woodwork               517 non-null    int64 \n",
            " 13  Offsides                   517 non-null    int64 \n",
            " 14  Touches                    517 non-null    int64 \n",
            " 15  Passes                     517 non-null    int64 \n",
            " 16  Successful Passes          517 non-null    int64 \n",
            " 17  Passes%                    517 non-null    object\n",
            " 18  Crosses                    517 non-null    int64 \n",
            " 19  Successful Crosses         517 non-null    int64 \n",
            " 20  Crosses %                  517 non-null    object\n",
            " 21  fThird Passes              517 non-null    int64 \n",
            " 22  Successful fThird Passes   517 non-null    int64 \n",
            " 23  fThird Passes %            517 non-null    object\n",
            " 24  Through Balls              517 non-null    int64 \n",
            " 25  Carries                    517 non-null    int64 \n",
            " 26  Progressive Carries        517 non-null    int64 \n",
            " 27  Carries Ended with Goal    517 non-null    int64 \n",
            " 28  Carries Ended with Assist  517 non-null    int64 \n",
            " 29  Carries Ended with Shot    517 non-null    int64 \n",
            " 30  Carries Ended with Chance  517 non-null    int64 \n",
            " 31  Possession Won             517 non-null    int64 \n",
            " 32  Dispossessed               517 non-null    int64 \n",
            "dtypes: int64(25), object(8)\n",
            "memory usage: 137.3+ KB\n",
            "None\n"
          ]
        }
      ]
    },
    {
      "cell_type": "markdown",
      "source": [
        "Visto que o objetivo do trabalho é separar grupos de jogadores mais propensos a marcar gols, podemos eliminar de imediato colunas que não possuem nenhuma correlação com funções ofensivas dentro de campo, sendo elas exclusivamente defensivas ou função de goleiro."
      ],
      "metadata": {
        "id": "2GYPgj5Y-Cs6"
      }
    },
    {
      "cell_type": "code",
      "source": [
        "to_drop = [\n",
        "    \"Clean Sheets\",\n",
        "    \"Clearances\",\n",
        "    \"Interceptions\",\n",
        "    \"Blocks\",\n",
        "    \"Tackles\",\n",
        "    \"Ground Duels\",\n",
        "    \"gDuels Won\",\n",
        "    \"gDuels %\",\n",
        "    \"Aerial Duels\",\n",
        "    \"aDuels Won\",\n",
        "    \"aDuels %\",\n",
        "    \"Goals Conceded\",\n",
        "    \"xGoT Conceded\",\n",
        "    \"Own Goals\",\n",
        "    \"Fouls\",\n",
        "    \"Yellow Cards\",\n",
        "    \"Red Cards\",\n",
        "    \"Saves\",\n",
        "    \"Saves %\",\n",
        "    \"Penalties Saved\",\n",
        "    \"Clearances Off Line\",\n",
        "    \"Punches\",\n",
        "    \"High Claims\",\n",
        "    \"Goals Prevented\"\n",
        "]\n",
        "\n",
        "df = df.drop(to_drop, axis=1)"
      ],
      "metadata": {
        "id": "A-VMxpZI9sCm"
      },
      "execution_count": 5,
      "outputs": []
    },
    {
      "cell_type": "markdown",
      "source": [
        "Baseando-se no contexto de partidas de futebol, goleiros raramente são responsáveis por marcar gols, podendo assim gols feitos por goleiros serem considerados como *outliers* nesta análise.\n",
        "\n",
        "Portanto, excluiremos todas as linhas em que o jogador pertence a esta posição."
      ],
      "metadata": {
        "id": "Ef69Siwy-zTm"
      }
    },
    {
      "cell_type": "code",
      "source": [
        "df[\"Position\"].unique()"
      ],
      "metadata": {
        "colab": {
          "base_uri": "https://localhost:8080/"
        },
        "id": "-yDNpTWa-nHf",
        "outputId": "e31413f9-6ba6-43aa-bde1-df04c776bda5"
      },
      "execution_count": 6,
      "outputs": [
        {
          "output_type": "execute_result",
          "data": {
            "text/plain": [
              "array(['DEF', 'MID', 'GKP', 'FWD'], dtype=object)"
            ]
          },
          "metadata": {},
          "execution_count": 6
        }
      ]
    },
    {
      "cell_type": "code",
      "source": [
        "df = df[df[\"Position\"] != \"GKP\"]"
      ],
      "metadata": {
        "id": "ghQnSTDg_bqD"
      },
      "execution_count": 7,
      "outputs": []
    },
    {
      "cell_type": "code",
      "source": [
        "plt.figure(figsize=(7, 5))\n",
        "# gráfico de barras simples\n",
        "sns.countplot(x='Position', data=df)\n",
        "plt.title('Distribuição das Posições dos jogadores')\n",
        "plt.xlabel('Posição')\n",
        "plt.ylabel('Contagem')\n",
        "plt.show()"
      ],
      "metadata": {
        "id": "hwLYs7lGHKVe",
        "colab": {
          "base_uri": "https://localhost:8080/",
          "height": 487
        },
        "outputId": "608c16ba-91d6-4d26-ab29-1266dd20fde8"
      },
      "execution_count": 8,
      "outputs": [
        {
          "output_type": "display_data",
          "data": {
            "text/plain": [
              "<Figure size 700x500 with 1 Axes>"
            ],
            "image/png": "[encoded data removed]"
          },
          "metadata": {}
        }
      ]
    },
    {
      "cell_type": "markdown",
      "source": [
        "O gráfico ilustrado mostra que as classes de posição dos jogadores estão um tanto desbalanceadas, sendo a maior parte do dataset composto por defensores ou meio-campistas.\n",
        "\n",
        "Esta composição pode interferir negativamente na análise, visto que o objetivo é agrupar jogadores com maior potencial de marcar gols, e esta é uma função geralmente atribuída à atacantes."
      ],
      "metadata": {
        "id": "5VVAMJ3MHKVe"
      }
    },
    {
      "cell_type": "markdown",
      "source": [
        "Para tentar balancear um pouco mais o dataset e focar no objetivo da análise serão excluídos todos os jogadores que não possuem gols marcados e então será análisada novamente a distribuição por posição."
      ],
      "metadata": {
        "id": "VmcUJGKT18sz"
      }
    },
    {
      "cell_type": "code",
      "source": [
        "df = df[df[\"Goals\"] > 0]\n",
        "\n",
        "plt.figure(figsize=(7, 5))\n",
        "# gráfico de barras simples\n",
        "sns.countplot(x='Position', data=df)\n",
        "plt.title('Distribuição das Posições dos jogadores')\n",
        "plt.xlabel('Posição')\n",
        "plt.ylabel('Contagem')\n",
        "plt.show()"
      ],
      "metadata": {
        "id": "fJ9wt0EC2bUf",
        "outputId": "eb382e7a-53af-403f-b4eb-cde2b08e75e1",
        "colab": {
          "base_uri": "https://localhost:8080/",
          "height": 487
        }
      },
      "execution_count": 14,
      "outputs": [
        {
          "output_type": "display_data",
          "data": {
            "text/plain": [
              "<Figure size 700x500 with 1 Axes>"
            ],
            "image/png": "[encoded data removed]"
          },
          "metadata": {}
        }
      ]
    },
    {
      "cell_type": "code",
      "source": [
        "df[\"Player Name\"].count()"
      ],
      "metadata": {
        "id": "JtV5-WP5242J",
        "outputId": "e0584aa8-7e04-4713-bf27-ccff184b5039",
        "colab": {
          "base_uri": "https://localhost:8080/"
        }
      },
      "execution_count": 15,
      "outputs": [
        {
          "output_type": "execute_result",
          "data": {
            "text/plain": [
              "np.int64(260)"
            ]
          },
          "metadata": {},
          "execution_count": 15
        }
      ]
    },
    {
      "cell_type": "code",
      "source": [
        "plt.figure(figsize=(10, 6))\n",
        "sns.scatterplot(\n",
        "    data=df,\n",
        "    x=\"Minutes\",\n",
        "    y=\"Goals\",\n",
        "    hue=\"Position\",  # Cores por grupo de posição\n",
        "    palette=\"Set1\",  # Paleta de cores (opcional)\n",
        "    alpha=0.7\n",
        ")\n",
        "\n",
        "plt.title(\"Gols Marcados vs. Minutos em Campo por Posição\")\n",
        "plt.xlabel(\"Minutos em Campo\")\n",
        "plt.ylabel(\"Gols Marcados\")\n",
        "plt.legend(title=\"Posição\")\n",
        "plt.grid(True)\n",
        "plt.tight_layout()\n",
        "plt.show()"
      ],
      "metadata": {
        "id": "Qw1RB4ES0ga6",
        "outputId": "e20177bf-2690-420a-be62-0a7a6d85c7f2",
        "colab": {
          "base_uri": "https://localhost:8080/",
          "height": 607
        }
      },
      "execution_count": 16,
      "outputs": [
        {
          "output_type": "display_data",
          "data": {
            "text/plain": [
              "<Figure size 1000x600 with 1 Axes>"
            ],
            "image/png": "[encoded data removed]"
          },
          "metadata": {}
        }
      ]
    },
    {
      "cell_type": "markdown",
      "source": [
        "A partir do gráfico acima, é possível analisar que até a faixa de 10 gols marcados a influência de minutagem jogada não é tão assintosa quanto quando passamos dessa margem, não existindo instâncias com mais de 10 gols e menos de 2500 minutos jogados na temporada."
      ],
      "metadata": {
        "id": "HLsncIA63LBy"
      }
    },
    {
      "cell_type": "markdown",
      "source": [
        "## Estatísticas Descritivas\n",
        "\n",
        "Estatísticas descritivas fornecem um resumo das características numéricas, incluindo média, desvio padrão, mínimo, máximo e quartis."
      ],
      "metadata": {
        "id": "M-bS4g_ECPoP"
      }
    },
    {
      "cell_type": "code",
      "source": [
        "# estatísticas descritivas básicas do dataset\n",
        "df.describe()"
      ],
      "metadata": {
        "colab": {
          "base_uri": "https://localhost:8080/",
          "height": 401
        },
        "id": "fTCOuOolC_rG",
        "outputId": "94a13f0e-1390-43b8-fd9a-ef58cfdd9811"
      },
      "execution_count": 17,
      "outputs": [
        {
          "output_type": "execute_result",
          "data": {
            "text/plain": [
              "       Appearances      Minutes       Goals     Assists       Shots  \\\n",
              "count   260.000000   260.000000  260.000000  260.000000  260.000000   \n",
              "mean     27.453846  1788.830769    3.696154    1.942308   30.103846   \n",
              "std       8.003968   909.704069    4.047496    2.751016   23.268966   \n",
              "min       4.000000    52.000000    1.000000    0.000000    1.000000   \n",
              "25%      21.750000   997.500000    1.000000    0.000000   13.000000   \n",
              "50%      29.000000  1789.500000    2.000000    1.000000   24.000000   \n",
              "75%      34.000000  2590.000000    5.000000    3.000000   40.250000   \n",
              "max      38.000000  3420.000000   29.000000   18.000000  130.000000   \n",
              "\n",
              "       Shots On Target  Big Chances Missed  Hit Woodwork    Offsides  \\\n",
              "count       260.000000          260.000000    260.000000  260.000000   \n",
              "mean          8.326923            3.811538      0.865385    3.796154   \n",
              "std          10.544118            4.478074      1.202135    4.886431   \n",
              "min           0.000000            0.000000      0.000000    0.000000   \n",
              "25%           1.000000            1.000000      0.000000    1.000000   \n",
              "50%           4.000000            2.000000      0.500000    2.000000   \n",
              "75%          12.000000            5.000000      1.000000    5.000000   \n",
              "max          61.000000           27.000000      6.000000   28.000000   \n",
              "\n",
              "           Touches  ...  Successful fThird Passes  Through Balls     Carries  \\\n",
              "count   260.000000  ...                260.000000     260.000000  260.000000   \n",
              "mean   1152.142308  ...                167.365385       3.238462  208.515385   \n",
              "std     707.829347  ...                142.198679       4.761986  162.158306   \n",
              "min      34.000000  ...                  0.000000       0.000000    0.000000   \n",
              "25%     555.500000  ...                 43.750000       0.000000   80.750000   \n",
              "50%    1089.000000  ...                149.000000       2.000000  203.000000   \n",
              "75%    1599.000000  ...                251.250000       4.000000  323.750000   \n",
              "max    3347.000000  ...                639.000000      27.000000  770.000000   \n",
              "\n",
              "       Progressive Carries  Carries Ended with Goal  \\\n",
              "count           260.000000               260.000000   \n",
              "mean            109.369231                 0.465385   \n",
              "std              90.571087                 1.084621   \n",
              "min               0.000000                 0.000000   \n",
              "25%              37.000000                 0.000000   \n",
              "50%             100.000000                 0.000000   \n",
              "75%             174.500000                 0.000000   \n",
              "max             494.000000                 9.000000   \n",
              "\n",
              "       Carries Ended with Assist  Carries Ended with Shot  \\\n",
              "count                 260.000000               260.000000   \n",
              "mean                    0.661538                 5.369231   \n",
              "std                     1.224296                 8.096082   \n",
              "min                     0.000000                 0.000000   \n",
              "25%                     0.000000                 0.000000   \n",
              "50%                     0.000000                 2.000000   \n",
              "75%                     1.000000                 8.000000   \n",
              "max                     9.000000                44.000000   \n",
              "\n",
              "       Carries Ended with Chance  Possession Won  Dispossessed  \n",
              "count                 260.000000      260.000000    260.000000  \n",
              "mean                    5.100000       72.869231     20.661538  \n",
              "std                     6.550487       54.787323     16.559267  \n",
              "min                     0.000000        0.000000      0.000000  \n",
              "25%                     0.000000       34.750000      8.000000  \n",
              "50%                     3.000000       70.000000     17.000000  \n",
              "75%                     7.000000      110.000000     29.250000  \n",
              "max                    35.000000      229.000000     93.000000  \n",
              "\n",
              "[8 rows x 25 columns]"
            ],
            "text/html": [
              "\n",
              "  <div id=\"df-a6e0aa54-2fcf-4b45-a22e-c6a60f80b5f9\" class=\"colab-df-container\">\n",
              "    <div>\n",
              "<style scoped>\n",
              "    .dataframe tbody tr th:only-of-type {\n",
              "        vertical-align: middle;\n",
              "    }\n",
              "\n",
              "    .dataframe tbody tr th {\n",
              "        vertical-align: top;\n",
              "    }\n",
              "\n",
              "    .dataframe thead th {\n",
              "        text-align: right;\n",
              "    }\n",
              "</style>\n",
              "<table border=\"1\" class=\"dataframe\">\n",
              "  <thead>\n",
              "    <tr style=\"text-align: right;\">\n",
              "      <th></th>\n",
              "      <th>Appearances</th>\n",
              "      <th>Minutes</th>\n",
              "      <th>Goals</th>\n",
              "      <th>Assists</th>\n",
              "      <th>Shots</th>\n",
              "      <th>Shots On Target</th>\n",
              "      <th>Big Chances Missed</th>\n",
              "      <th>Hit Woodwork</th>\n",
              "      <th>Offsides</th>\n",
              "      <th>Touches</th>\n",
              "      <th>...</th>\n",
              "      <th>Successful fThird Passes</th>\n",
              "      <th>Through Balls</th>\n",
              "      <th>Carries</th>\n",
              "      <th>Progressive Carries</th>\n",
              "      <th>Carries Ended with Goal</th>\n",
              "      <th>Carries Ended with Assist</th>\n",
              "      <th>Carries Ended with Shot</th>\n",
              "      <th>Carries Ended with Chance</th>\n",
              "      <th>Possession Won</th>\n",
              "      <th>Dispossessed</th>\n",
              "    </tr>\n",
              "  </thead>\n",
              "  <tbody>\n",
              "    <tr>\n",
              "      <th>count</th>\n",
              "      <td>260.000000</td>\n",
              "      <td>260.000000</td>\n",
              "      <td>260.000000</td>\n",
              "      <td>260.000000</td>\n",
              "      <td>260.000000</td>\n",
              "      <td>260.000000</td>\n",
              "      <td>260.000000</td>\n",
              "      <td>260.000000</td>\n",
              "      <td>260.000000</td>\n",
              "      <td>260.000000</td>\n",
              "      <td>...</td>\n",
              "      <td>260.000000</td>\n",
              "      <td>260.000000</td>\n",
              "      <td>260.000000</td>\n",
              "      <td>260.000000</td>\n",
              "      <td>260.000000</td>\n",
              "      <td>260.000000</td>\n",
              "      <td>260.000000</td>\n",
              "      <td>260.000000</td>\n",
              "      <td>260.000000</td>\n",
              "      <td>260.000000</td>\n",
              "    </tr>\n",
              "    <tr>\n",
              "      <th>mean</th>\n",
              "      <td>27.453846</td>\n",
              "      <td>1788.830769</td>\n",
              "      <td>3.696154</td>\n",
              "      <td>1.942308</td>\n",
              "      <td>30.103846</td>\n",
              "      <td>8.326923</td>\n",
              "      <td>3.811538</td>\n",
              "      <td>0.865385</td>\n",
              "      <td>3.796154</td>\n",
              "      <td>1152.142308</td>\n",
              "      <td>...</td>\n",
              "      <td>167.365385</td>\n",
              "      <td>3.238462</td>\n",
              "      <td>208.515385</td>\n",
              "      <td>109.369231</td>\n",
              "      <td>0.465385</td>\n",
              "      <td>0.661538</td>\n",
              "      <td>5.369231</td>\n",
              "      <td>5.100000</td>\n",
              "      <td>72.869231</td>\n",
              "      <td>20.661538</td>\n",
              "    </tr>\n",
              "    <tr>\n",
              "      <th>std</th>\n",
              "      <td>8.003968</td>\n",
              "      <td>909.704069</td>\n",
              "      <td>4.047496</td>\n",
              "      <td>2.751016</td>\n",
              "      <td>23.268966</td>\n",
              "      <td>10.544118</td>\n",
              "      <td>4.478074</td>\n",
              "      <td>1.202135</td>\n",
              "      <td>4.886431</td>\n",
              "      <td>707.829347</td>\n",
              "      <td>...</td>\n",
              "      <td>142.198679</td>\n",
              "      <td>4.761986</td>\n",
              "      <td>162.158306</td>\n",
              "      <td>90.571087</td>\n",
              "      <td>1.084621</td>\n",
              "      <td>1.224296</td>\n",
              "      <td>8.096082</td>\n",
              "      <td>6.550487</td>\n",
              "      <td>54.787323</td>\n",
              "      <td>16.559267</td>\n",
              "    </tr>\n",
              "    <tr>\n",
              "      <th>min</th>\n",
              "      <td>4.000000</td>\n",
              "      <td>52.000000</td>\n",
              "      <td>1.000000</td>\n",
              "      <td>0.000000</td>\n",
              "      <td>1.000000</td>\n",
              "      <td>0.000000</td>\n",
              "      <td>0.000000</td>\n",
              "      <td>0.000000</td>\n",
              "      <td>0.000000</td>\n",
              "      <td>34.000000</td>\n",
              "      <td>...</td>\n",
              "      <td>0.000000</td>\n",
              "      <td>0.000000</td>\n",
              "      <td>0.000000</td>\n",
              "      <td>0.000000</td>\n",
              "      <td>0.000000</td>\n",
              "      <td>0.000000</td>\n",
              "      <td>0.000000</td>\n",
              "      <td>0.000000</td>\n",
              "      <td>0.000000</td>\n",
              "      <td>0.000000</td>\n",
              "    </tr>\n",
              "    <tr>\n",
              "      <th>25%</th>\n",
              "      <td>21.750000</td>\n",
              "      <td>997.500000</td>\n",
              "      <td>1.000000</td>\n",
              "      <td>0.000000</td>\n",
              "      <td>13.000000</td>\n",
              "      <td>1.000000</td>\n",
              "      <td>1.000000</td>\n",
              "      <td>0.000000</td>\n",
              "      <td>1.000000</td>\n",
              "      <td>555.500000</td>\n",
              "      <td>...</td>\n",
              "      <td>43.750000</td>\n",
              "      <td>0.000000</td>\n",
              "      <td>80.750000</td>\n",
              "      <td>37.000000</td>\n",
              "      <td>0.000000</td>\n",
              "      <td>0.000000</td>\n",
              "      <td>0.000000</td>\n",
              "      <td>0.000000</td>\n",
              "      <td>34.750000</td>\n",
              "      <td>8.000000</td>\n",
              "    </tr>\n",
              "    <tr>\n",
              "      <th>50%</th>\n",
              "      <td>29.000000</td>\n",
              "      <td>1789.500000</td>\n",
              "      <td>2.000000</td>\n",
              "      <td>1.000000</td>\n",
              "      <td>24.000000</td>\n",
              "      <td>4.000000</td>\n",
              "      <td>2.000000</td>\n",
              "      <td>0.500000</td>\n",
              "      <td>2.000000</td>\n",
              "      <td>1089.000000</td>\n",
              "      <td>...</td>\n",
              "      <td>149.000000</td>\n",
              "      <td>2.000000</td>\n",
              "      <td>203.000000</td>\n",
              "      <td>100.000000</td>\n",
              "      <td>0.000000</td>\n",
              "      <td>0.000000</td>\n",
              "      <td>2.000000</td>\n",
              "      <td>3.000000</td>\n",
              "      <td>70.000000</td>\n",
              "      <td>17.000000</td>\n",
              "    </tr>\n",
              "    <tr>\n",
              "      <th>75%</th>\n",
              "      <td>34.000000</td>\n",
              "      <td>2590.000000</td>\n",
              "      <td>5.000000</td>\n",
              "      <td>3.000000</td>\n",
              "      <td>40.250000</td>\n",
              "      <td>12.000000</td>\n",
              "      <td>5.000000</td>\n",
              "      <td>1.000000</td>\n",
              "      <td>5.000000</td>\n",
              "      <td>1599.000000</td>\n",
              "      <td>...</td>\n",
              "      <td>251.250000</td>\n",
              "      <td>4.000000</td>\n",
              "      <td>323.750000</td>\n",
              "      <td>174.500000</td>\n",
              "      <td>0.000000</td>\n",
              "      <td>1.000000</td>\n",
              "      <td>8.000000</td>\n",
              "      <td>7.000000</td>\n",
              "      <td>110.000000</td>\n",
              "      <td>29.250000</td>\n",
              "    </tr>\n",
              "    <tr>\n",
              "      <th>max</th>\n",
              "      <td>38.000000</td>\n",
              "      <td>3420.000000</td>\n",
              "      <td>29.000000</td>\n",
              "      <td>18.000000</td>\n",
              "      <td>130.000000</td>\n",
              "      <td>61.000000</td>\n",
              "      <td>27.000000</td>\n",
              "      <td>6.000000</td>\n",
              "      <td>28.000000</td>\n",
              "      <td>3347.000000</td>\n",
              "      <td>...</td>\n",
              "      <td>639.000000</td>\n",
              "      <td>27.000000</td>\n",
              "      <td>770.000000</td>\n",
              "      <td>494.000000</td>\n",
              "      <td>9.000000</td>\n",
              "      <td>9.000000</td>\n",
              "      <td>44.000000</td>\n",
              "      <td>35.000000</td>\n",
              "      <td>229.000000</td>\n",
              "      <td>93.000000</td>\n",
              "    </tr>\n",
              "  </tbody>\n",
              "</table>\n",
              "<p>8 rows × 25 columns</p>\n",
              "</div>\n",
              "    <div class=\"colab-df-buttons\">\n",
              "\n",
              "  <div class=\"colab-df-container\">\n",
              "    <button class=\"colab-df-convert\" onclick=\"convertToInteractive('df-a6e0aa54-2fcf-4b45-a22e-c6a60f80b5f9')\"\n",
              "            title=\"Convert this dataframe to an interactive table.\"\n",
              "            style=\"display:none;\">\n",
              "\n",
              "  <svg xmlns=\"http://www.w3.org/2000/svg\" height=\"24px\" viewBox=\"0 -960 960 960\">\n",
              "    <path d=\"M120-120v-720h720v720H120Zm60-500h600v-160H180v160Zm220 220h160v-160H400v160Zm0 220h160v-160H400v160ZM180-400h160v-160H180v160Zm440 0h160v-160H620v160ZM180-180h160v-160H180v160Zm440 0h160v-160H620v160Z\"/>\n",
              "  </svg>\n",
              "    </button>\n",
              "\n",
              "  <style>\n",
              "    .colab-df-container {\n",
              "      display:flex;\n",
              "      gap: 12px;\n",
              "    }\n",
              "\n",
              "    .colab-df-convert {\n",
              "      background-color: #E8F0FE;\n",
              "      border: none;\n",
              "      border-radius: 50%;\n",
              "      cursor: pointer;\n",
              "      display: none;\n",
              "      fill: #1967D2;\n",
              "      height: 32px;\n",
              "      padding: 0 0 0 0;\n",
              "      width: 32px;\n",
              "    }\n",
              "\n",
              "    .colab-df-convert:hover {\n",
              "      background-color: #E2EBFA;\n",
              "      box-shadow: 0px 1px 2px rgba(60, 64, 67, 0.3), 0px 1px 3px 1px rgba(60, 64, 67, 0.15);\n",
              "      fill: #174EA6;\n",
              "    }\n",
              "\n",
              "    .colab-df-buttons div {\n",
              "      margin-bottom: 4px;\n",
              "    }\n",
              "\n",
              "    [theme=dark] .colab-df-convert {\n",
              "      background-color: #3B4455;\n",
              "      fill: #D2E3FC;\n",
              "    }\n",
              "\n",
              "    [theme=dark] .colab-df-convert:hover {\n",
              "      background-color: #434B5C;\n",
              "      box-shadow: 0px 1px 3px 1px rgba(0, 0, 0, 0.15);\n",
              "      filter: drop-shadow(0px 1px 2px rgba(0, 0, 0, 0.3));\n",
              "      fill: #FFFFFF;\n",
              "    }\n",
              "  </style>\n",
              "\n",
              "    <script>\n",
              "      const buttonEl =\n",
              "        document.querySelector('#df-a6e0aa54-2fcf-4b45-a22e-c6a60f80b5f9 button.colab-df-convert');\n",
              "      buttonEl.style.display =\n",
              "        google.colab.kernel.accessAllowed ? 'block' : 'none';\n",
              "\n",
              "      async function convertToInteractive(key) {\n",
              "        const element = document.querySelector('#df-a6e0aa54-2fcf-4b45-a22e-c6a60f80b5f9');\n",
              "        const dataTable =\n",
              "          await google.colab.kernel.invokeFunction('convertToInteractive',\n",
              "                                                    [key], {});\n",
              "        if (!dataTable) return;\n",
              "\n",
              "        const docLinkHtml = 'Like what you see? Visit the ' +\n",
              "          '<a target=\"_blank\" href=https://colab.research.google.com/notebooks/data_table.ipynb>data table notebook</a>'\n",
              "          + ' to learn more about interactive tables.';\n",
              "        element.innerHTML = '';\n",
              "        dataTable['output_type'] = 'display_data';\n",
              "        await google.colab.output.renderOutput(dataTable, element);\n",
              "        const docLink = document.createElement('div');\n",
              "        docLink.innerHTML = docLinkHtml;\n",
              "        element.appendChild(docLink);\n",
              "      }\n",
              "    </script>\n",
              "  </div>\n",
              "\n",
              "\n",
              "    <div id=\"df-9f1b1415-faed-43a0-a78e-7659574b7645\">\n",
              "      <button class=\"colab-df-quickchart\" onclick=\"quickchart('df-9f1b1415-faed-43a0-a78e-7659574b7645')\"\n",
              "                title=\"Suggest charts\"\n",
              "                style=\"display:none;\">\n",
              "\n",
              "<svg xmlns=\"http://www.w3.org/2000/svg\" height=\"24px\"viewBox=\"0 0 24 24\"\n",
              "     width=\"24px\">\n",
              "    <g>\n",
              "        <path d=\"M19 3H5c-1.1 0-2 .9-2 2v14c0 1.1.9 2 2 2h14c1.1 0 2-.9 2-2V5c0-1.1-.9-2-2-2zM9 17H7v-7h2v7zm4 0h-2V7h2v10zm4 0h-2v-4h2v4z\"/>\n",
              "    </g>\n",
              "</svg>\n",
              "      </button>\n",
              "\n",
              "<style>\n",
              "  .colab-df-quickchart {\n",
              "      --bg-color: #E8F0FE;\n",
              "      --fill-color: #1967D2;\n",
              "      --hover-bg-color: #E2EBFA;\n",
              "      --hover-fill-color: #174EA6;\n",
              "      --disabled-fill-color: #AAA;\n",
              "      --disabled-bg-color: #DDD;\n",
              "  }\n",
              "\n",
              "  [theme=dark] .colab-df-quickchart {\n",
              "      --bg-color: #3B4455;\n",
              "      --fill-color: #D2E3FC;\n",
              "      --hover-bg-color: #434B5C;\n",
              "      --hover-fill-color: #FFFFFF;\n",
              "      --disabled-bg-color: #3B4455;\n",
              "      --disabled-fill-color: #666;\n",
              "  }\n",
              "\n",
              "  .colab-df-quickchart {\n",
              "    background-color: var(--bg-color);\n",
              "    border: none;\n",
              "    border-radius: 50%;\n",
              "    cursor: pointer;\n",
              "    display: none;\n",
              "    fill: var(--fill-color);\n",
              "    height: 32px;\n",
              "    padding: 0;\n",
              "    width: 32px;\n",
              "  }\n",
              "\n",
              "  .colab-df-quickchart:hover {\n",
              "    background-color: var(--hover-bg-color);\n",
              "    box-shadow: 0 1px 2px rgba(60, 64, 67, 0.3), 0 1px 3px 1px rgba(60, 64, 67, 0.15);\n",
              "    fill: var(--button-hover-fill-color);\n",
              "  }\n",
              "\n",
              "  .colab-df-quickchart-complete:disabled,\n",
              "  .colab-df-quickchart-complete:disabled:hover {\n",
              "    background-color: var(--disabled-bg-color);\n",
              "    fill: var(--disabled-fill-color);\n",
              "    box-shadow: none;\n",
              "  }\n",
              "\n",
              "  .colab-df-spinner {\n",
              "    border: 2px solid var(--fill-color);\n",
              "    border-color: transparent;\n",
              "    border-bottom-color: var(--fill-color);\n",
              "    animation:\n",
              "      spin 1s steps(1) infinite;\n",
              "  }\n",
              "\n",
              "  @keyframes spin {\n",
              "    0% {\n",
              "      border-color: transparent;\n",
              "      border-bottom-color: var(--fill-color);\n",
              "      border-left-color: var(--fill-color);\n",
              "    }\n",
              "    20% {\n",
              "      border-color: transparent;\n",
              "      border-left-color: var(--fill-color);\n",
              "      border-top-color: var(--fill-color);\n",
              "    }\n",
              "    30% {\n",
              "      border-color: transparent;\n",
              "      border-left-color: var(--fill-color);\n",
              "      border-top-color: var(--fill-color);\n",
              "      border-right-color: var(--fill-color);\n",
              "    }\n",
              "    40% {\n",
              "      border-color: transparent;\n",
              "      border-right-color: var(--fill-color);\n",
              "      border-top-color: var(--fill-color);\n",
              "    }\n",
              "    60% {\n",
              "      border-color: transparent;\n",
              "      border-right-color: var(--fill-color);\n",
              "    }\n",
              "    80% {\n",
              "      border-color: transparent;\n",
              "      border-right-color: var(--fill-color);\n",
              "      border-bottom-color: var(--fill-color);\n",
              "    }\n",
              "    90% {\n",
              "      border-color: transparent;\n",
              "      border-bottom-color: var(--fill-color);\n",
              "    }\n",
              "  }\n",
              "</style>\n",
              "\n",
              "      <script>\n",
              "        async function quickchart(key) {\n",
              "          const quickchartButtonEl =\n",
              "            document.querySelector('#' + key + ' button');\n",
              "          quickchartButtonEl.disabled = true;  // To prevent multiple clicks.\n",
              "          quickchartButtonEl.classList.add('colab-df-spinner');\n",
              "          try {\n",
              "            const charts = await google.colab.kernel.invokeFunction(\n",
              "                'suggestCharts', [key], {});\n",
              "          } catch (error) {\n",
              "            console.error('Error during call to suggestCharts:', error);\n",
              "          }\n",
              "          quickchartButtonEl.classList.remove('colab-df-spinner');\n",
              "          quickchartButtonEl.classList.add('colab-df-quickchart-complete');\n",
              "        }\n",
              "        (() => {\n",
              "          let quickchartButtonEl =\n",
              "            document.querySelector('#df-9f1b1415-faed-43a0-a78e-7659574b7645 button');\n",
              "          quickchartButtonEl.style.display =\n",
              "            google.colab.kernel.accessAllowed ? 'block' : 'none';\n",
              "        })();\n",
              "      </script>\n",
              "    </div>\n",
              "\n",
              "    </div>\n",
              "  </div>\n"
            ],
            "application/vnd.google.colaboratory.intrinsic+json": {
              "type": "dataframe"
            }
          },
          "metadata": {},
          "execution_count": 17
        }
      ]
    },
    {
      "cell_type": "code",
      "source": [
        "total_goals = df['Goals'].sum()\n",
        "total_goals"
      ],
      "metadata": {
        "id": "ul9WIzXY5FG1",
        "outputId": "549a12ef-47f0-4122-cda6-2d05582cf517",
        "colab": {
          "base_uri": "https://localhost:8080/"
        }
      },
      "execution_count": 29,
      "outputs": [
        {
          "output_type": "execute_result",
          "data": {
            "text/plain": [
              "np.int64(961)"
            ]
          },
          "metadata": {},
          "execution_count": 29
        }
      ]
    },
    {
      "cell_type": "code",
      "source": [
        "df_scorers = df[(df[\"Goals\"] <= 5) & (df[\"Goals\"] > 0)]\n",
        "df_top_scorers = df[df[\"Goals\"] > 5]\n",
        "\n",
        "print(f\"Scorers: {df_scorers['Player Name'].count()}\")\n",
        "print(f\"Top Scorers: {df_top_scorers['Player Name'].count()}\")\n",
        "\n",
        "print(f\"Scorers goals: {df_scorers['Goals'].sum()}\")\n",
        "print(f\"Top Scorers goals: {df_top_scorers['Goals'].sum()}\")\n",
        "\n",
        "print(f\"Scorers goals %: {(df_scorers['Goals'].sum() / total_goals) * 100:.2f}%\")\n",
        "print(f\"Top Scorers goals %: {(df_top_scorers['Goals'].sum() / total_goals) * 100:.2f}%\")"
      ],
      "metadata": {
        "id": "z6Sd3Vd45Q-K",
        "outputId": "d02f272a-e27a-40fe-d5f8-63d84aaa73fc",
        "colab": {
          "base_uri": "https://localhost:8080/"
        }
      },
      "execution_count": 30,
      "outputs": [
        {
          "output_type": "stream",
          "name": "stdout",
          "text": [
            "Scorers: 206\n",
            "Top Scorers: 54\n",
            "Scorers goals: 431\n",
            "Top Scorers goals: 530\n",
            "Scorers goals %: 44.85%\n",
            "Top Scorers goals %: 55.15%\n"
          ]
        }
      ]
    },
    {
      "cell_type": "markdown",
      "source": [
        "Através do método *describe* do dataframe pandas, foi possível observar que 75% dos jogadores marcaram até 5 gols, o que gerou a curiosidade de analisar o quanto os maiores artilheiros da liga são responsáveis pelo número total de gols.\n",
        "\n",
        "O mais interessante é que apenas 54 jogadores são responsáveis por marcar mais de 55% dos gols na temporada."
      ],
      "metadata": {
        "id": "zocrSVLL8DCw"
      }
    },
    {
      "cell_type": "markdown",
      "source": [
        "### Média\n",
        "\n",
        "A média é uma medida de tendência central que representa o valor típico ou o ponto de equilíbrio de um conjunto de dados. É calculada somando-se todos os valores e dividindo-se pelo número total de observações. É sensível a valores extremos (outliers)."
      ],
      "metadata": {
        "id": "sWPH7rj8Ck6v"
      }
    },
    {
      "cell_type": "code",
      "source": [
        "# média dos atributos numéricos do dataset\n",
        "df.describe().loc['mean']"
      ],
      "metadata": {
        "colab": {
          "base_uri": "https://localhost:8080/",
          "height": 210
        },
        "id": "vm3QIAb-CZbt",
        "outputId": "e27b218d-3fb5-4c5e-cacf-65508a3641f0"
      },
      "execution_count": null,
      "outputs": [
        {
          "output_type": "execute_result",
          "data": {
            "text/plain": [
              "sepal length (cm)    5.843333\n",
              "sepal width (cm)     3.057333\n",
              "petal length (cm)    3.758000\n",
              "petal width (cm)     1.199333\n",
              "Name: mean, dtype: float64"
            ],
            "text/html": [
              "<div>\n",
              "<style scoped>\n",
              "    .dataframe tbody tr th:only-of-type {\n",
              "        vertical-align: middle;\n",
              "    }\n",
              "\n",
              "    .dataframe tbody tr th {\n",
              "        vertical-align: top;\n",
              "    }\n",
              "\n",
              "    .dataframe thead th {\n",
              "        text-align: right;\n",
              "    }\n",
              "</style>\n",
              "<table border=\"1\" class=\"dataframe\">\n",
              "  <thead>\n",
              "    <tr style=\"text-align: right;\">\n",
              "      <th></th>\n",
              "      <th>mean</th>\n",
              "    </tr>\n",
              "  </thead>\n",
              "  <tbody>\n",
              "    <tr>\n",
              "      <th>sepal length (cm)</th>\n",
              "      <td>5.843333</td>\n",
              "    </tr>\n",
              "    <tr>\n",
              "      <th>sepal width (cm)</th>\n",
              "      <td>3.057333</td>\n",
              "    </tr>\n",
              "    <tr>\n",
              "      <th>petal length (cm)</th>\n",
              "      <td>3.758000</td>\n",
              "    </tr>\n",
              "    <tr>\n",
              "      <th>petal width (cm)</th>\n",
              "      <td>1.199333</td>\n",
              "    </tr>\n",
              "  </tbody>\n",
              "</table>\n",
              "</div><br><label><b>dtype:</b> float64</label>"
            ]
          },
          "metadata": {},
          "execution_count": 8
        }
      ]
    },
    {
      "cell_type": "code",
      "source": [
        "# Qual gráfico seria interessante usar pra mostrar a média?"
      ],
      "metadata": {
        "id": "EPKpanMFCf0e"
      },
      "execution_count": null,
      "outputs": []
    },
    {
      "cell_type": "markdown",
      "source": [
        "### Desvio Padrão\n",
        "\n",
        "O desvio padrão é uma medida de dispersão que quantifica a quantidade de variação ou dispersão de um conjunto de valores. Um desvio padrão baixo indica que os pontos de dados tendem a estar próximos da média do conjunto, enquanto um desvio padrão alto indica que os pontos de dados estão espalhados por uma faixa maior de valores. Ele é a raiz quadrada da variância."
      ],
      "metadata": {
        "id": "MHRKK0YmCmUw"
      }
    },
    {
      "cell_type": "code",
      "source": [
        "# desvio padrão dos atributos numéricos do dataset\n",
        "df.describe().loc['std']"
      ],
      "metadata": {
        "colab": {
          "base_uri": "https://localhost:8080/",
          "height": 210
        },
        "id": "aBIXqi0fCwSH",
        "outputId": "aae48cbc-eddb-464f-a205-92441960bed9"
      },
      "execution_count": null,
      "outputs": [
        {
          "output_type": "execute_result",
          "data": {
            "text/plain": [
              "sepal length (cm)    0.828066\n",
              "sepal width (cm)     0.435866\n",
              "petal length (cm)    1.765298\n",
              "petal width (cm)     0.762238\n",
              "Name: std, dtype: float64"
            ],
            "text/html": [
              "<div>\n",
              "<style scoped>\n",
              "    .dataframe tbody tr th:only-of-type {\n",
              "        vertical-align: middle;\n",
              "    }\n",
              "\n",
              "    .dataframe tbody tr th {\n",
              "        vertical-align: top;\n",
              "    }\n",
              "\n",
              "    .dataframe thead th {\n",
              "        text-align: right;\n",
              "    }\n",
              "</style>\n",
              "<table border=\"1\" class=\"dataframe\">\n",
              "  <thead>\n",
              "    <tr style=\"text-align: right;\">\n",
              "      <th></th>\n",
              "      <th>std</th>\n",
              "    </tr>\n",
              "  </thead>\n",
              "  <tbody>\n",
              "    <tr>\n",
              "      <th>sepal length (cm)</th>\n",
              "      <td>0.828066</td>\n",
              "    </tr>\n",
              "    <tr>\n",
              "      <th>sepal width (cm)</th>\n",
              "      <td>0.435866</td>\n",
              "    </tr>\n",
              "    <tr>\n",
              "      <th>petal length (cm)</th>\n",
              "      <td>1.765298</td>\n",
              "    </tr>\n",
              "    <tr>\n",
              "      <th>petal width (cm)</th>\n",
              "      <td>0.762238</td>\n",
              "    </tr>\n",
              "  </tbody>\n",
              "</table>\n",
              "</div><br><label><b>dtype:</b> float64</label>"
            ]
          },
          "metadata": {},
          "execution_count": 10
        }
      ]
    },
    {
      "cell_type": "code",
      "source": [
        "# Qual gráfico seria interessante usar pra mostrar o desvio padrão?"
      ],
      "metadata": {
        "id": "b_v1ImkCDHYw"
      },
      "execution_count": null,
      "outputs": []
    },
    {
      "cell_type": "markdown",
      "source": [
        "## Histograma\n",
        "\n",
        "A distribuição de dados descreve como os valores de uma variável se espalham, ou seja, a frequência com que diferentes valores ocorrem. Entender a distribuição é crucial na análise de dados, pois revela padrões, tendências centrais, dispersão e a presença de valores atípicos (outliers). O histograma é uma ferramenta visual fundamental para representar essa distribuição, mostrando a forma dos dados, se são simétricos ou assimétricos, unimodais ou multimodais."
      ],
      "metadata": {
        "id": "4tX_H2zZEFwU"
      }
    },
    {
      "cell_type": "markdown",
      "source": [
        "### *sepal length*\n",
        "\n",
        "Alguma curiosidade ou fato importante sobre o atributo que estamos olhando a distribuição?"
      ],
      "metadata": {
        "id": "FSs4jBF7HUnV"
      }
    },
    {
      "cell_type": "code",
      "source": [
        "plt.figure(figsize=(8, 6))\n",
        "# Histograma do comprimento da sépala (um dos atributos)\n",
        "sns.histplot(df['sepal length (cm)'], kde=True)\n",
        "plt.title('Distribuição do Comprimento da Sépala')\n",
        "plt.xlabel('Comprimento da Sépala (cm)')\n",
        "plt.ylabel('Frequência')\n",
        "plt.show()"
      ],
      "metadata": {
        "id": "MdBuOXxzHI5h",
        "colab": {
          "base_uri": "https://localhost:8080/",
          "height": 565
        },
        "outputId": "7358342d-0d88-4737-ae27-be9bc0848e82"
      },
      "execution_count": null,
      "outputs": [
        {
          "output_type": "display_data",
          "data": {
            "text/plain": [
              "<Figure size 800x600 with 1 Axes>"
            ],
            "image/png": "[encoded data removed]"
          },
          "metadata": {}
        }
      ]
    },
    {
      "cell_type": "markdown",
      "source": [
        "O histograma mostra a distribuição do comprimento da sépala. A curva de densidade estimada (KDE) nos indica que a distribuição parece bimodal ou multimodal, indicando que as espécies podem ter comprimentos de sépalas diferentes."
      ],
      "metadata": {
        "id": "o7CSWH48HI5h"
      }
    },
    {
      "cell_type": "markdown",
      "source": [
        "### *sepal width*\n",
        "\n",
        "Alguma curiosidade ou fato importante sobre o atributo que estamos olhando a distribuição?"
      ],
      "metadata": {
        "id": "GC3jhtL2HpS5"
      }
    },
    {
      "cell_type": "code",
      "source": [
        "plt.figure(figsize=(8, 6))\n",
        "# Histograma do comprimento da sépala (um dos atributos)\n",
        "sns.histplot(df['sepal width (cm)'], kde=True)\n",
        "plt.title('Distribuição da Largura da Sépala')\n",
        "plt.xlabel('Largura da Sépala (cm)')\n",
        "plt.ylabel('Frequência')\n",
        "plt.show()"
      ],
      "metadata": {
        "colab": {
          "base_uri": "https://localhost:8080/",
          "height": 565
        },
        "id": "xFULQrKiGPqj",
        "outputId": "0c2566c0-130e-4bc3-f99a-c2b2fecbd973"
      },
      "execution_count": null,
      "outputs": [
        {
          "output_type": "display_data",
          "data": {
            "text/plain": [
              "<Figure size 800x600 with 1 Axes>"
            ],
            "image/png": "[encoded data removed]"
          },
          "metadata": {}
        }
      ]
    },
    {
      "cell_type": "markdown",
      "source": [
        "Quais impressões você tem sobre a distribuição do atributo 'sepal width'?"
      ],
      "metadata": {
        "id": "2iQSmHWkGUom"
      }
    },
    {
      "cell_type": "markdown",
      "source": [
        "## Boxplot\n",
        "\n",
        "Para entender as diferenças entre as espécies, devemos olhar como se comportam os valores quando agrupadas por espécie. Isso nos permite comparar a média, mediana e desvio padrão de cada característica para Iris setosa, Iris versicolor e Iris virginica, além de visualizar suas distribuições por meio de boxplots.\n"
      ],
      "metadata": {
        "id": "av_qTo2YERdw"
      }
    },
    {
      "cell_type": "code",
      "source": [
        "# Estatísticas descritivas agrupadas por espécie\n",
        "df.groupby('species').describe()"
      ],
      "metadata": {
        "id": "iH6ov-UMHHHJ",
        "colab": {
          "base_uri": "https://localhost:8080/",
          "height": 236
        },
        "outputId": "c8c6a50a-7571-4af4-c883-b6a6d04a7bd6"
      },
      "execution_count": null,
      "outputs": [
        {
          "output_type": "execute_result",
          "data": {
            "text/plain": [
              "           sepal length (cm)                                              \\\n",
              "                       count   mean       std  min    25%  50%  75%  max   \n",
              "species                                                                    \n",
              "setosa                  50.0  5.006  0.352490  4.3  4.800  5.0  5.2  5.8   \n",
              "versicolor              50.0  5.936  0.516171  4.9  5.600  5.9  6.3  7.0   \n",
              "virginica               50.0  6.588  0.635880  4.9  6.225  6.5  6.9  7.9   \n",
              "\n",
              "           sepal width (cm)         ... petal length (cm)       \\\n",
              "                      count   mean  ...               75%  max   \n",
              "species                             ...                          \n",
              "setosa                 50.0  3.428  ...             1.575  1.9   \n",
              "versicolor             50.0  2.770  ...             4.600  5.1   \n",
              "virginica              50.0  2.974  ...             5.875  6.9   \n",
              "\n",
              "           petal width (cm)                                            \n",
              "                      count   mean       std  min  25%  50%  75%  max  \n",
              "species                                                                \n",
              "setosa                 50.0  0.246  0.105386  0.1  0.2  0.2  0.3  0.6  \n",
              "versicolor             50.0  1.326  0.197753  1.0  1.2  1.3  1.5  1.8  \n",
              "virginica              50.0  2.026  0.274650  1.4  1.8  2.0  2.3  2.5  \n",
              "\n",
              "[3 rows x 32 columns]"
            ],
            "text/html": [
              "\n",
              "  <div id=\"df-61ed6076-5833-4d5b-a4bb-ebb5e5efe145\" class=\"colab-df-container\">\n",
              "    <div>\n",
              "<style scoped>\n",
              "    .dataframe tbody tr th:only-of-type {\n",
              "        vertical-align: middle;\n",
              "    }\n",
              "\n",
              "    .dataframe tbody tr th {\n",
              "        vertical-align: top;\n",
              "    }\n",
              "\n",
              "    .dataframe thead tr th {\n",
              "        text-align: left;\n",
              "    }\n",
              "\n",
              "    .dataframe thead tr:last-of-type th {\n",
              "        text-align: right;\n",
              "    }\n",
              "</style>\n",
              "<table border=\"1\" class=\"dataframe\">\n",
              "  <thead>\n",
              "    <tr>\n",
              "      <th></th>\n",
              "      <th colspan=\"8\" halign=\"left\">sepal length (cm)</th>\n",
              "      <th colspan=\"2\" halign=\"left\">sepal width (cm)</th>\n",
              "      <th>...</th>\n",
              "      <th colspan=\"2\" halign=\"left\">petal length (cm)</th>\n",
              "      <th colspan=\"8\" halign=\"left\">petal width (cm)</th>\n",
              "    </tr>\n",
              "    <tr>\n",
              "      <th></th>\n",
              "      <th>count</th>\n",
              "      <th>mean</th>\n",
              "      <th>std</th>\n",
              "      <th>min</th>\n",
              "      <th>25%</th>\n",
              "      <th>50%</th>\n",
              "      <th>75%</th>\n",
              "      <th>max</th>\n",
              "      <th>count</th>\n",
              "      <th>mean</th>\n",
              "      <th>...</th>\n",
              "      <th>75%</th>\n",
              "      <th>max</th>\n",
              "      <th>count</th>\n",
              "      <th>mean</th>\n",
              "      <th>std</th>\n",
              "      <th>min</th>\n",
              "      <th>25%</th>\n",
              "      <th>50%</th>\n",
              "      <th>75%</th>\n",
              "      <th>max</th>\n",
              "    </tr>\n",
              "    <tr>\n",
              "      <th>species</th>\n",
              "      <th></th>\n",
              "      <th></th>\n",
              "      <th></th>\n",
              "      <th></th>\n",
              "      <th></th>\n",
              "      <th></th>\n",
              "      <th></th>\n",
              "      <th></th>\n",
              "      <th></th>\n",
              "      <th></th>\n",
              "      <th></th>\n",
              "      <th></th>\n",
              "      <th></th>\n",
              "      <th></th>\n",
              "      <th></th>\n",
              "      <th></th>\n",
              "      <th></th>\n",
              "      <th></th>\n",
              "      <th></th>\n",
              "      <th></th>\n",
              "      <th></th>\n",
              "    </tr>\n",
              "  </thead>\n",
              "  <tbody>\n",
              "    <tr>\n",
              "      <th>setosa</th>\n",
              "      <td>50.0</td>\n",
              "      <td>5.006</td>\n",
              "      <td>0.352490</td>\n",
              "      <td>4.3</td>\n",
              "      <td>4.800</td>\n",
              "      <td>5.0</td>\n",
              "      <td>5.2</td>\n",
              "      <td>5.8</td>\n",
              "      <td>50.0</td>\n",
              "      <td>3.428</td>\n",
              "      <td>...</td>\n",
              "      <td>1.575</td>\n",
              "      <td>1.9</td>\n",
              "      <td>50.0</td>\n",
              "      <td>0.246</td>\n",
              "      <td>0.105386</td>\n",
              "      <td>0.1</td>\n",
              "      <td>0.2</td>\n",
              "      <td>0.2</td>\n",
              "      <td>0.3</td>\n",
              "      <td>0.6</td>\n",
              "    </tr>\n",
              "    <tr>\n",
              "      <th>versicolor</th>\n",
              "      <td>50.0</td>\n",
              "      <td>5.936</td>\n",
              "      <td>0.516171</td>\n",
              "      <td>4.9</td>\n",
              "      <td>5.600</td>\n",
              "      <td>5.9</td>\n",
              "      <td>6.3</td>\n",
              "      <td>7.0</td>\n",
              "      <td>50.0</td>\n",
              "      <td>2.770</td>\n",
              "      <td>...</td>\n",
              "      <td>4.600</td>\n",
              "      <td>5.1</td>\n",
              "      <td>50.0</td>\n",
              "      <td>1.326</td>\n",
              "      <td>0.197753</td>\n",
              "      <td>1.0</td>\n",
              "      <td>1.2</td>\n",
              "      <td>1.3</td>\n",
              "      <td>1.5</td>\n",
              "      <td>1.8</td>\n",
              "    </tr>\n",
              "    <tr>\n",
              "      <th>virginica</th>\n",
              "      <td>50.0</td>\n",
              "      <td>6.588</td>\n",
              "      <td>0.635880</td>\n",
              "      <td>4.9</td>\n",
              "      <td>6.225</td>\n",
              "      <td>6.5</td>\n",
              "      <td>6.9</td>\n",
              "      <td>7.9</td>\n",
              "      <td>50.0</td>\n",
              "      <td>2.974</td>\n",
              "      <td>...</td>\n",
              "      <td>5.875</td>\n",
              "      <td>6.9</td>\n",
              "      <td>50.0</td>\n",
              "      <td>2.026</td>\n",
              "      <td>0.274650</td>\n",
              "      <td>1.4</td>\n",
              "      <td>1.8</td>\n",
              "      <td>2.0</td>\n",
              "      <td>2.3</td>\n",
              "      <td>2.5</td>\n",
              "    </tr>\n",
              "  </tbody>\n",
              "</table>\n",
              "<p>3 rows × 32 columns</p>\n",
              "</div>\n",
              "    <div class=\"colab-df-buttons\">\n",
              "\n",
              "  <div class=\"colab-df-container\">\n",
              "    <button class=\"colab-df-convert\" onclick=\"convertToInteractive('df-61ed6076-5833-4d5b-a4bb-ebb5e5efe145')\"\n",
              "            title=\"Convert this dataframe to an interactive table.\"\n",
              "            style=\"display:none;\">\n",
              "\n",
              "  <svg xmlns=\"http://www.w3.org/2000/svg\" height=\"24px\" viewBox=\"0 -960 960 960\">\n",
              "    <path d=\"M120-120v-720h720v720H120Zm60-500h600v-160H180v160Zm220 220h160v-160H400v160Zm0 220h160v-160H400v160ZM180-400h160v-160H180v160Zm440 0h160v-160H620v160ZM180-180h160v-160H180v160Zm440 0h160v-160H620v160Z\"/>\n",
              "  </svg>\n",
              "    </button>\n",
              "\n",
              "  <style>\n",
              "    .colab-df-container {\n",
              "      display:flex;\n",
              "      gap: 12px;\n",
              "    }\n",
              "\n",
              "    .colab-df-convert {\n",
              "      background-color: #E8F0FE;\n",
              "      border: none;\n",
              "      border-radius: 50%;\n",
              "      cursor: pointer;\n",
              "      display: none;\n",
              "      fill: #1967D2;\n",
              "      height: 32px;\n",
              "      padding: 0 0 0 0;\n",
              "      width: 32px;\n",
              "    }\n",
              "\n",
              "    .colab-df-convert:hover {\n",
              "      background-color: #E2EBFA;\n",
              "      box-shadow: 0px 1px 2px rgba(60, 64, 67, 0.3), 0px 1px 3px 1px rgba(60, 64, 67, 0.15);\n",
              "      fill: #174EA6;\n",
              "    }\n",
              "\n",
              "    .colab-df-buttons div {\n",
              "      margin-bottom: 4px;\n",
              "    }\n",
              "\n",
              "    [theme=dark] .colab-df-convert {\n",
              "      background-color: #3B4455;\n",
              "      fill: #D2E3FC;\n",
              "    }\n",
              "\n",
              "    [theme=dark] .colab-df-convert:hover {\n",
              "      background-color: #434B5C;\n",
              "      box-shadow: 0px 1px 3px 1px rgba(0, 0, 0, 0.15);\n",
              "      filter: drop-shadow(0px 1px 2px rgba(0, 0, 0, 0.3));\n",
              "      fill: #FFFFFF;\n",
              "    }\n",
              "  </style>\n",
              "\n",
              "    <script>\n",
              "      const buttonEl =\n",
              "        document.querySelector('#df-61ed6076-5833-4d5b-a4bb-ebb5e5efe145 button.colab-df-convert');\n",
              "      buttonEl.style.display =\n",
              "        google.colab.kernel.accessAllowed ? 'block' : 'none';\n",
              "\n",
              "      async function convertToInteractive(key) {\n",
              "        const element = document.querySelector('#df-61ed6076-5833-4d5b-a4bb-ebb5e5efe145');\n",
              "        const dataTable =\n",
              "          await google.colab.kernel.invokeFunction('convertToInteractive',\n",
              "                                                    [key], {});\n",
              "        if (!dataTable) return;\n",
              "\n",
              "        const docLinkHtml = 'Like what you see? Visit the ' +\n",
              "          '<a target=\"_blank\" href=https://colab.research.google.com/notebooks/data_table.ipynb>data table notebook</a>'\n",
              "          + ' to learn more about interactive tables.';\n",
              "        element.innerHTML = '';\n",
              "        dataTable['output_type'] = 'display_data';\n",
              "        await google.colab.output.renderOutput(dataTable, element);\n",
              "        const docLink = document.createElement('div');\n",
              "        docLink.innerHTML = docLinkHtml;\n",
              "        element.appendChild(docLink);\n",
              "      }\n",
              "    </script>\n",
              "  </div>\n",
              "\n",
              "\n",
              "    <div id=\"df-01e989c4-e3ad-4ea8-b9b1-190f836ef095\">\n",
              "      <button class=\"colab-df-quickchart\" onclick=\"quickchart('df-01e989c4-e3ad-4ea8-b9b1-190f836ef095')\"\n",
              "                title=\"Suggest charts\"\n",
              "                style=\"display:none;\">\n",
              "\n",
              "<svg xmlns=\"http://www.w3.org/2000/svg\" height=\"24px\"viewBox=\"0 0 24 24\"\n",
              "     width=\"24px\">\n",
              "    <g>\n",
              "        <path d=\"M19 3H5c-1.1 0-2 .9-2 2v14c0 1.1.9 2 2 2h14c1.1 0 2-.9 2-2V5c0-1.1-.9-2-2-2zM9 17H7v-7h2v7zm4 0h-2V7h2v10zm4 0h-2v-4h2v4z\"/>\n",
              "    </g>\n",
              "</svg>\n",
              "      </button>\n",
              "\n",
              "<style>\n",
              "  .colab-df-quickchart {\n",
              "      --bg-color: #E8F0FE;\n",
              "      --fill-color: #1967D2;\n",
              "      --hover-bg-color: #E2EBFA;\n",
              "      --hover-fill-color: #174EA6;\n",
              "      --disabled-fill-color: #AAA;\n",
              "      --disabled-bg-color: #DDD;\n",
              "  }\n",
              "\n",
              "  [theme=dark] .colab-df-quickchart {\n",
              "      --bg-color: #3B4455;\n",
              "      --fill-color: #D2E3FC;\n",
              "      --hover-bg-color: #434B5C;\n",
              "      --hover-fill-color: #FFFFFF;\n",
              "      --disabled-bg-color: #3B4455;\n",
              "      --disabled-fill-color: #666;\n",
              "  }\n",
              "\n",
              "  .colab-df-quickchart {\n",
              "    background-color: var(--bg-color);\n",
              "    border: none;\n",
              "    border-radius: 50%;\n",
              "    cursor: pointer;\n",
              "    display: none;\n",
              "    fill: var(--fill-color);\n",
              "    height: 32px;\n",
              "    padding: 0;\n",
              "    width: 32px;\n",
              "  }\n",
              "\n",
              "  .colab-df-quickchart:hover {\n",
              "    background-color: var(--hover-bg-color);\n",
              "    box-shadow: 0 1px 2px rgba(60, 64, 67, 0.3), 0 1px 3px 1px rgba(60, 64, 67, 0.15);\n",
              "    fill: var(--button-hover-fill-color);\n",
              "  }\n",
              "\n",
              "  .colab-df-quickchart-complete:disabled,\n",
              "  .colab-df-quickchart-complete:disabled:hover {\n",
              "    background-color: var(--disabled-bg-color);\n",
              "    fill: var(--disabled-fill-color);\n",
              "    box-shadow: none;\n",
              "  }\n",
              "\n",
              "  .colab-df-spinner {\n",
              "    border: 2px solid var(--fill-color);\n",
              "    border-color: transparent;\n",
              "    border-bottom-color: var(--fill-color);\n",
              "    animation:\n",
              "      spin 1s steps(1) infinite;\n",
              "  }\n",
              "\n",
              "  @keyframes spin {\n",
              "    0% {\n",
              "      border-color: transparent;\n",
              "      border-bottom-color: var(--fill-color);\n",
              "      border-left-color: var(--fill-color);\n",
              "    }\n",
              "    20% {\n",
              "      border-color: transparent;\n",
              "      border-left-color: var(--fill-color);\n",
              "      border-top-color: var(--fill-color);\n",
              "    }\n",
              "    30% {\n",
              "      border-color: transparent;\n",
              "      border-left-color: var(--fill-color);\n",
              "      border-top-color: var(--fill-color);\n",
              "      border-right-color: var(--fill-color);\n",
              "    }\n",
              "    40% {\n",
              "      border-color: transparent;\n",
              "      border-right-color: var(--fill-color);\n",
              "      border-top-color: var(--fill-color);\n",
              "    }\n",
              "    60% {\n",
              "      border-color: transparent;\n",
              "      border-right-color: var(--fill-color);\n",
              "    }\n",
              "    80% {\n",
              "      border-color: transparent;\n",
              "      border-right-color: var(--fill-color);\n",
              "      border-bottom-color: var(--fill-color);\n",
              "    }\n",
              "    90% {\n",
              "      border-color: transparent;\n",
              "      border-bottom-color: var(--fill-color);\n",
              "    }\n",
              "  }\n",
              "</style>\n",
              "\n",
              "      <script>\n",
              "        async function quickchart(key) {\n",
              "          const quickchartButtonEl =\n",
              "            document.querySelector('#' + key + ' button');\n",
              "          quickchartButtonEl.disabled = true;  // To prevent multiple clicks.\n",
              "          quickchartButtonEl.classList.add('colab-df-spinner');\n",
              "          try {\n",
              "            const charts = await google.colab.kernel.invokeFunction(\n",
              "                'suggestCharts', [key], {});\n",
              "          } catch (error) {\n",
              "            console.error('Error during call to suggestCharts:', error);\n",
              "          }\n",
              "          quickchartButtonEl.classList.remove('colab-df-spinner');\n",
              "          quickchartButtonEl.classList.add('colab-df-quickchart-complete');\n",
              "        }\n",
              "        (() => {\n",
              "          let quickchartButtonEl =\n",
              "            document.querySelector('#df-01e989c4-e3ad-4ea8-b9b1-190f836ef095 button');\n",
              "          quickchartButtonEl.style.display =\n",
              "            google.colab.kernel.accessAllowed ? 'block' : 'none';\n",
              "        })();\n",
              "      </script>\n",
              "    </div>\n",
              "\n",
              "    </div>\n",
              "  </div>\n"
            ],
            "application/vnd.google.colaboratory.intrinsic+json": {
              "type": "dataframe"
            }
          },
          "metadata": {},
          "execution_count": 14
        }
      ]
    },
    {
      "cell_type": "markdown",
      "source": [
        "### *petal length* por Espécie\n"
      ],
      "metadata": {
        "id": "vGdPjK0AJIh_"
      }
    },
    {
      "cell_type": "code",
      "source": [
        "# Boxplot do comprimento da pétala por espécie\n",
        "plt.figure(figsize=(10, 6))\n",
        "sns.boxplot(x='species', y='petal length (cm)', data=df)\n",
        "plt.title('Comprimento da Pétala por Espécie')\n",
        "plt.xlabel('Espécie')\n",
        "plt.ylabel('Comprimento da Pétala (cm)')\n",
        "plt.show()"
      ],
      "metadata": {
        "id": "CXYVIeNfHHHJ",
        "colab": {
          "base_uri": "https://localhost:8080/",
          "height": 565
        },
        "outputId": "07a43483-acd5-4862-a1bc-7fa662414eff"
      },
      "execution_count": null,
      "outputs": [
        {
          "output_type": "display_data",
          "data": {
            "text/plain": [
              "<Figure size 1000x600 with 1 Axes>"
            ],
            "image/png": "[encoded data removed]"
          },
          "metadata": {}
        }
      ]
    },
    {
      "cell_type": "markdown",
      "source": [
        "O boxplot do comprimento da pétala por espécie demonstra claramente que a Iris setosa tem pétalas significativamente mais curtas do que as outras duas espécies. Há uma sobreposição entre Iris versicolor e Iris virginica, mas as medianas e as caixas indicam uma distinção."
      ],
      "metadata": {
        "id": "mqwFIROrHHHJ"
      }
    },
    {
      "cell_type": "markdown",
      "source": [
        "### *petal width* por Espécie"
      ],
      "metadata": {
        "id": "gL3TPaIRJydo"
      }
    },
    {
      "cell_type": "code",
      "source": [
        "# Boxplot do comprimento da pétala por espécie\n",
        "plt.figure(figsize=(10, 6))\n",
        "sns.boxplot(x='species', y='petal width (cm)', data=df)\n",
        "plt.title('Largura da Pétala por Espécie')\n",
        "plt.xlabel('Espécie')\n",
        "plt.ylabel('Largura da Pétala (cm)')\n",
        "plt.show()"
      ],
      "metadata": {
        "colab": {
          "base_uri": "https://localhost:8080/",
          "height": 565
        },
        "id": "spO_61dYJ3c9",
        "outputId": "5c228224-ed1b-4176-b231-9c0237d3e880"
      },
      "execution_count": null,
      "outputs": [
        {
          "output_type": "display_data",
          "data": {
            "text/plain": [
              "<Figure size 1000x600 with 1 Axes>"
            ],
            "image/png": "[encoded data removed]"
          },
          "metadata": {}
        }
      ]
    },
    {
      "cell_type": "markdown",
      "source": [
        "Quais impressões o boxplot trouxe?"
      ],
      "metadata": {
        "id": "6SkLRoCnJ-67"
      }
    },
    {
      "cell_type": "markdown",
      "source": [
        "## Matriz de Correlação\n",
        "\n",
        "A matriz de correlação mede a força e a direção de uma relação linear que os atributos numéricos das espécies podem ter. Valores próximos a 1 indicam uma forte correlação positiva, -1 uma forte correlação negativa, e 0 ausência de correlação linear."
      ],
      "metadata": {
        "id": "3_ERHJAPEZAt"
      }
    },
    {
      "cell_type": "code",
      "source": [
        "# Matriz de correlação\n",
        "print(\"\\nMatriz de Correlação:\")\n",
        "df.iloc[:, :4].corr()"
      ],
      "metadata": {
        "id": "jAmPsbzDHF2t",
        "colab": {
          "base_uri": "https://localhost:8080/",
          "height": 210
        },
        "outputId": "ab8a653a-ed39-4e7e-ec4f-d34015dc5f52"
      },
      "execution_count": null,
      "outputs": [
        {
          "output_type": "stream",
          "name": "stdout",
          "text": [
            "\n",
            "Matriz de Correlação:\n"
          ]
        },
        {
          "output_type": "execute_result",
          "data": {
            "text/plain": [
              "                   sepal length (cm)  sepal width (cm)  petal length (cm)  \\\n",
              "sepal length (cm)           1.000000         -0.117570           0.871754   \n",
              "sepal width (cm)           -0.117570          1.000000          -0.428440   \n",
              "petal length (cm)           0.871754         -0.428440           1.000000   \n",
              "petal width (cm)            0.817941         -0.366126           0.962865   \n",
              "\n",
              "                   petal width (cm)  \n",
              "sepal length (cm)          0.817941  \n",
              "sepal width (cm)          -0.366126  \n",
              "petal length (cm)          0.962865  \n",
              "petal width (cm)           1.000000  "
            ],
            "text/html": [
              "\n",
              "  <div id=\"df-5bab9ab7-e41c-4ae0-89a7-fe48d2b4e90c\" class=\"colab-df-container\">\n",
              "    <div>\n",
              "<style scoped>\n",
              "    .dataframe tbody tr th:only-of-type {\n",
              "        vertical-align: middle;\n",
              "    }\n",
              "\n",
              "    .dataframe tbody tr th {\n",
              "        vertical-align: top;\n",
              "    }\n",
              "\n",
              "    .dataframe thead th {\n",
              "        text-align: right;\n",
              "    }\n",
              "</style>\n",
              "<table border=\"1\" class=\"dataframe\">\n",
              "  <thead>\n",
              "    <tr style=\"text-align: right;\">\n",
              "      <th></th>\n",
              "      <th>sepal length (cm)</th>\n",
              "      <th>sepal width (cm)</th>\n",
              "      <th>petal length (cm)</th>\n",
              "      <th>petal width (cm)</th>\n",
              "    </tr>\n",
              "  </thead>\n",
              "  <tbody>\n",
              "    <tr>\n",
              "      <th>sepal length (cm)</th>\n",
              "      <td>1.000000</td>\n",
              "      <td>-0.117570</td>\n",
              "      <td>0.871754</td>\n",
              "      <td>0.817941</td>\n",
              "    </tr>\n",
              "    <tr>\n",
              "      <th>sepal width (cm)</th>\n",
              "      <td>-0.117570</td>\n",
              "      <td>1.000000</td>\n",
              "      <td>-0.428440</td>\n",
              "      <td>-0.366126</td>\n",
              "    </tr>\n",
              "    <tr>\n",
              "      <th>petal length (cm)</th>\n",
              "      <td>0.871754</td>\n",
              "      <td>-0.428440</td>\n",
              "      <td>1.000000</td>\n",
              "      <td>0.962865</td>\n",
              "    </tr>\n",
              "    <tr>\n",
              "      <th>petal width (cm)</th>\n",
              "      <td>0.817941</td>\n",
              "      <td>-0.366126</td>\n",
              "      <td>0.962865</td>\n",
              "      <td>1.000000</td>\n",
              "    </tr>\n",
              "  </tbody>\n",
              "</table>\n",
              "</div>\n",
              "    <div class=\"colab-df-buttons\">\n",
              "\n",
              "  <div class=\"colab-df-container\">\n",
              "    <button class=\"colab-df-convert\" onclick=\"convertToInteractive('df-5bab9ab7-e41c-4ae0-89a7-fe48d2b4e90c')\"\n",
              "            title=\"Convert this dataframe to an interactive table.\"\n",
              "            style=\"display:none;\">\n",
              "\n",
              "  <svg xmlns=\"http://www.w3.org/2000/svg\" height=\"24px\" viewBox=\"0 -960 960 960\">\n",
              "    <path d=\"M120-120v-720h720v720H120Zm60-500h600v-160H180v160Zm220 220h160v-160H400v160Zm0 220h160v-160H400v160ZM180-400h160v-160H180v160Zm440 0h160v-160H620v160ZM180-180h160v-160H180v160Zm440 0h160v-160H620v160Z\"/>\n",
              "  </svg>\n",
              "    </button>\n",
              "\n",
              "  <style>\n",
              "    .colab-df-container {\n",
              "      display:flex;\n",
              "      gap: 12px;\n",
              "    }\n",
              "\n",
              "    .colab-df-convert {\n",
              "      background-color: #E8F0FE;\n",
              "      border: none;\n",
              "      border-radius: 50%;\n",
              "      cursor: pointer;\n",
              "      display: none;\n",
              "      fill: #1967D2;\n",
              "      height: 32px;\n",
              "      padding: 0 0 0 0;\n",
              "      width: 32px;\n",
              "    }\n",
              "\n",
              "    .colab-df-convert:hover {\n",
              "      background-color: #E2EBFA;\n",
              "      box-shadow: 0px 1px 2px rgba(60, 64, 67, 0.3), 0px 1px 3px 1px rgba(60, 64, 67, 0.15);\n",
              "      fill: #174EA6;\n",
              "    }\n",
              "\n",
              "    .colab-df-buttons div {\n",
              "      margin-bottom: 4px;\n",
              "    }\n",
              "\n",
              "    [theme=dark] .colab-df-convert {\n",
              "      background-color: #3B4455;\n",
              "      fill: #D2E3FC;\n",
              "    }\n",
              "\n",
              "    [theme=dark] .colab-df-convert:hover {\n",
              "      background-color: #434B5C;\n",
              "      box-shadow: 0px 1px 3px 1px rgba(0, 0, 0, 0.15);\n",
              "      filter: drop-shadow(0px 1px 2px rgba(0, 0, 0, 0.3));\n",
              "      fill: #FFFFFF;\n",
              "    }\n",
              "  </style>\n",
              "\n",
              "    <script>\n",
              "      const buttonEl =\n",
              "        document.querySelector('#df-5bab9ab7-e41c-4ae0-89a7-fe48d2b4e90c button.colab-df-convert');\n",
              "      buttonEl.style.display =\n",
              "        google.colab.kernel.accessAllowed ? 'block' : 'none';\n",
              "\n",
              "      async function convertToInteractive(key) {\n",
              "        const element = document.querySelector('#df-5bab9ab7-e41c-4ae0-89a7-fe48d2b4e90c');\n",
              "        const dataTable =\n",
              "          await google.colab.kernel.invokeFunction('convertToInteractive',\n",
              "                                                    [key], {});\n",
              "        if (!dataTable) return;\n",
              "\n",
              "        const docLinkHtml = 'Like what you see? Visit the ' +\n",
              "          '<a target=\"_blank\" href=https://colab.research.google.com/notebooks/data_table.ipynb>data table notebook</a>'\n",
              "          + ' to learn more about interactive tables.';\n",
              "        element.innerHTML = '';\n",
              "        dataTable['output_type'] = 'display_data';\n",
              "        await google.colab.output.renderOutput(dataTable, element);\n",
              "        const docLink = document.createElement('div');\n",
              "        docLink.innerHTML = docLinkHtml;\n",
              "        element.appendChild(docLink);\n",
              "      }\n",
              "    </script>\n",
              "  </div>\n",
              "\n",
              "\n",
              "    <div id=\"df-2d24b27c-3a3e-42ad-9246-1c67d7e40b42\">\n",
              "      <button class=\"colab-df-quickchart\" onclick=\"quickchart('df-2d24b27c-3a3e-42ad-9246-1c67d7e40b42')\"\n",
              "                title=\"Suggest charts\"\n",
              "                style=\"display:none;\">\n",
              "\n",
              "<svg xmlns=\"http://www.w3.org/2000/svg\" height=\"24px\"viewBox=\"0 0 24 24\"\n",
              "     width=\"24px\">\n",
              "    <g>\n",
              "        <path d=\"M19 3H5c-1.1 0-2 .9-2 2v14c0 1.1.9 2 2 2h14c1.1 0 2-.9 2-2V5c0-1.1-.9-2-2-2zM9 17H7v-7h2v7zm4 0h-2V7h2v10zm4 0h-2v-4h2v4z\"/>\n",
              "    </g>\n",
              "</svg>\n",
              "      </button>\n",
              "\n",
              "<style>\n",
              "  .colab-df-quickchart {\n",
              "      --bg-color: #E8F0FE;\n",
              "      --fill-color: #1967D2;\n",
              "      --hover-bg-color: #E2EBFA;\n",
              "      --hover-fill-color: #174EA6;\n",
              "      --disabled-fill-color: #AAA;\n",
              "      --disabled-bg-color: #DDD;\n",
              "  }\n",
              "\n",
              "  [theme=dark] .colab-df-quickchart {\n",
              "      --bg-color: #3B4455;\n",
              "      --fill-color: #D2E3FC;\n",
              "      --hover-bg-color: #434B5C;\n",
              "      --hover-fill-color: #FFFFFF;\n",
              "      --disabled-bg-color: #3B4455;\n",
              "      --disabled-fill-color: #666;\n",
              "  }\n",
              "\n",
              "  .colab-df-quickchart {\n",
              "    background-color: var(--bg-color);\n",
              "    border: none;\n",
              "    border-radius: 50%;\n",
              "    cursor: pointer;\n",
              "    display: none;\n",
              "    fill: var(--fill-color);\n",
              "    height: 32px;\n",
              "    padding: 0;\n",
              "    width: 32px;\n",
              "  }\n",
              "\n",
              "  .colab-df-quickchart:hover {\n",
              "    background-color: var(--hover-bg-color);\n",
              "    box-shadow: 0 1px 2px rgba(60, 64, 67, 0.3), 0 1px 3px 1px rgba(60, 64, 67, 0.15);\n",
              "    fill: var(--button-hover-fill-color);\n",
              "  }\n",
              "\n",
              "  .colab-df-quickchart-complete:disabled,\n",
              "  .colab-df-quickchart-complete:disabled:hover {\n",
              "    background-color: var(--disabled-bg-color);\n",
              "    fill: var(--disabled-fill-color);\n",
              "    box-shadow: none;\n",
              "  }\n",
              "\n",
              "  .colab-df-spinner {\n",
              "    border: 2px solid var(--fill-color);\n",
              "    border-color: transparent;\n",
              "    border-bottom-color: var(--fill-color);\n",
              "    animation:\n",
              "      spin 1s steps(1) infinite;\n",
              "  }\n",
              "\n",
              "  @keyframes spin {\n",
              "    0% {\n",
              "      border-color: transparent;\n",
              "      border-bottom-color: var(--fill-color);\n",
              "      border-left-color: var(--fill-color);\n",
              "    }\n",
              "    20% {\n",
              "      border-color: transparent;\n",
              "      border-left-color: var(--fill-color);\n",
              "      border-top-color: var(--fill-color);\n",
              "    }\n",
              "    30% {\n",
              "      border-color: transparent;\n",
              "      border-left-color: var(--fill-color);\n",
              "      border-top-color: var(--fill-color);\n",
              "      border-right-color: var(--fill-color);\n",
              "    }\n",
              "    40% {\n",
              "      border-color: transparent;\n",
              "      border-right-color: var(--fill-color);\n",
              "      border-top-color: var(--fill-color);\n",
              "    }\n",
              "    60% {\n",
              "      border-color: transparent;\n",
              "      border-right-color: var(--fill-color);\n",
              "    }\n",
              "    80% {\n",
              "      border-color: transparent;\n",
              "      border-right-color: var(--fill-color);\n",
              "      border-bottom-color: var(--fill-color);\n",
              "    }\n",
              "    90% {\n",
              "      border-color: transparent;\n",
              "      border-bottom-color: var(--fill-color);\n",
              "    }\n",
              "  }\n",
              "</style>\n",
              "\n",
              "      <script>\n",
              "        async function quickchart(key) {\n",
              "          const quickchartButtonEl =\n",
              "            document.querySelector('#' + key + ' button');\n",
              "          quickchartButtonEl.disabled = true;  // To prevent multiple clicks.\n",
              "          quickchartButtonEl.classList.add('colab-df-spinner');\n",
              "          try {\n",
              "            const charts = await google.colab.kernel.invokeFunction(\n",
              "                'suggestCharts', [key], {});\n",
              "          } catch (error) {\n",
              "            console.error('Error during call to suggestCharts:', error);\n",
              "          }\n",
              "          quickchartButtonEl.classList.remove('colab-df-spinner');\n",
              "          quickchartButtonEl.classList.add('colab-df-quickchart-complete');\n",
              "        }\n",
              "        (() => {\n",
              "          let quickchartButtonEl =\n",
              "            document.querySelector('#df-2d24b27c-3a3e-42ad-9246-1c67d7e40b42 button');\n",
              "          quickchartButtonEl.style.display =\n",
              "            google.colab.kernel.accessAllowed ? 'block' : 'none';\n",
              "        })();\n",
              "      </script>\n",
              "    </div>\n",
              "\n",
              "    </div>\n",
              "  </div>\n"
            ],
            "application/vnd.google.colaboratory.intrinsic+json": {
              "type": "dataframe",
              "summary": "{\n  \"name\": \"df\",\n  \"rows\": 4,\n  \"fields\": [\n    {\n      \"column\": \"sepal length (cm)\",\n      \"properties\": {\n        \"dtype\": \"number\",\n        \"std\": 0.5127858813273581,\n        \"min\": -0.11756978413300088,\n        \"max\": 1.0,\n        \"num_unique_values\": 4,\n        \"samples\": [\n          -0.11756978413300088,\n          0.8179411262715758,\n          1.0\n        ],\n        \"semantic_type\": \"\",\n        \"description\": \"\"\n      }\n    },\n    {\n      \"column\": \"sepal width (cm)\",\n      \"properties\": {\n        \"dtype\": \"number\",\n        \"std\": 0.6657080809503223,\n        \"min\": -0.42844010433053864,\n        \"max\": 1.0,\n        \"num_unique_values\": 4,\n        \"samples\": [\n          1.0,\n          -0.3661259325364377,\n          -0.11756978413300088\n        ],\n        \"semantic_type\": \"\",\n        \"description\": \"\"\n      }\n    },\n    {\n      \"column\": \"petal length (cm)\",\n      \"properties\": {\n        \"dtype\": \"number\",\n        \"std\": 0.6887672414981271,\n        \"min\": -0.42844010433053864,\n        \"max\": 1.0,\n        \"num_unique_values\": 4,\n        \"samples\": [\n          -0.42844010433053864,\n          0.962865431402796,\n          0.8717537758865838\n        ],\n        \"semantic_type\": \"\",\n        \"description\": \"\"\n      }\n    },\n    {\n      \"column\": \"petal width (cm)\",\n      \"properties\": {\n        \"dtype\": \"number\",\n        \"std\": 0.6512846518377995,\n        \"min\": -0.3661259325364377,\n        \"max\": 1.0,\n        \"num_unique_values\": 4,\n        \"samples\": [\n          -0.3661259325364377,\n          1.0,\n          0.8179411262715758\n        ],\n        \"semantic_type\": \"\",\n        \"description\": \"\"\n      }\n    }\n  ]\n}"
            }
          },
          "metadata": {},
          "execution_count": 17
        }
      ]
    },
    {
      "cell_type": "code",
      "source": [
        "plt.figure(figsize=(8, 6))\n",
        "# mapa de calor das variáveis numéricas\n",
        "sns.heatmap(df.iloc[:, :4].corr(), annot=True, cmap='coolwarm', fmt=\".2f\")\n",
        "plt.title('Matriz de Correlação das Características Numéricas do Iris Dataset')\n",
        "plt.show()"
      ],
      "metadata": {
        "id": "1iSnofo-HF2u",
        "colab": {
          "base_uri": "https://localhost:8080/",
          "height": 545
        },
        "outputId": "10038bb1-26c2-42ab-fd0a-a47b17f0ddb3"
      },
      "execution_count": null,
      "outputs": [
        {
          "output_type": "display_data",
          "data": {
            "text/plain": [
              "<Figure size 800x600 with 2 Axes>"
            ],
            "image/png": "[encoded data removed]"
          },
          "metadata": {}
        }
      ]
    },
    {
      "cell_type": "markdown",
      "source": [
        "O mapa de calor da matriz de correlação revela fortes correlações positivas entre *petal length* e *petal width*, bem como entre *sepal length* e *petal length*/*petal width*. Isso sugere que essas características se movem juntas, o que é útil para a seleção de características."
      ],
      "metadata": {
        "id": "oz1caOiQHF2u"
      }
    },
    {
      "cell_type": "markdown",
      "source": [
        "# Pré-Processamento de Dados\n",
        "\n",
        "O pré-processamento de dados é uma etapa crucial para preparar os dados para modelagem, garantindo que estejam no formato correto e otimizados para o desempenho do algoritmo."
      ],
      "metadata": {
        "id": "VDovmxgDFcbF"
      }
    },
    {
      "cell_type": "code",
      "source": [
        "# Separar features (X) e target (y)\n",
        "X = df.drop('species', axis=1)\n",
        "y = df['species']"
      ],
      "metadata": {
        "id": "82kzmWnHFkb6"
      },
      "execution_count": null,
      "outputs": []
    },
    {
      "cell_type": "code",
      "source": [
        "# Dividir os dados em conjuntos de treino e teste\n",
        "X_train, X_test, y_train, y_test = train_test_split(X, y, test_size=0.3, random_state=42, stratify=y)"
      ],
      "metadata": {
        "id": "zzxbuTbIeuuU"
      },
      "execution_count": null,
      "outputs": []
    },
    {
      "cell_type": "code",
      "source": [
        "print(f\"Dimensões de X_train: {X_train.shape}\")\n",
        "print(f\"Dimensões de X_test: {X_test.shape}\")\n",
        "print(f\"Dimensões de y_train: {y_train.shape}\")\n",
        "print(f\"Dimensões de y_test: {y_test.shape}\")"
      ],
      "metadata": {
        "colab": {
          "base_uri": "https://localhost:8080/"
        },
        "id": "SPvN4eP8ewUB",
        "outputId": "21eab216-a9ea-4c61-89cf-6138bbd932c3"
      },
      "execution_count": null,
      "outputs": [
        {
          "output_type": "stream",
          "name": "stdout",
          "text": [
            "Dimensões de X_train: (105, 4)\n",
            "Dimensões de X_test: (45, 4)\n",
            "Dimensões de y_train: (105,)\n",
            "Dimensões de y_test: (45,)\n"
          ]
        }
      ]
    },
    {
      "cell_type": "markdown",
      "source": [
        "## Normalização\n",
        "\n",
        "A normalização escala os dados para um intervalo fixo, geralmente entre 0 e 1. É útil quando o algoritmo de machine learning assume que as características estão em uma escala semelhante.\n",
        "\n"
      ],
      "metadata": {
        "id": "7wQ9wP_zGJkk"
      }
    },
    {
      "cell_type": "code",
      "source": [
        "# Inicializar o MinMaxScaler\n",
        "scaler_norm = MinMaxScaler()"
      ],
      "metadata": {
        "id": "IHrDH13DHDDU"
      },
      "execution_count": null,
      "outputs": []
    },
    {
      "cell_type": "code",
      "source": [
        "# Aprende min e max APENAS de X_train\n",
        "scaler_norm.fit(X_train)\n",
        "X_train_normalized = scaler_norm.transform(X_train)\n",
        "# Usa a média e o desvio padrão aprendidos de X_train\n",
        "X_test_normalized = scaler_norm.transform(X_test)"
      ],
      "metadata": {
        "id": "WULXU6wBezB5"
      },
      "execution_count": null,
      "outputs": []
    },
    {
      "cell_type": "code",
      "source": [
        "# Exibir as primeiras linhas dos dados normalizados (como DataFrame para melhor visualização)\n",
        "df_normalized = pd.DataFrame(X_train_normalized, columns=X_train.columns)"
      ],
      "metadata": {
        "id": "-fHBl47Ve0NM"
      },
      "execution_count": null,
      "outputs": []
    },
    {
      "cell_type": "code",
      "source": [
        "print(\"\\nPrimeiras 5 linhas dos dados normalizados (treino):\")\n",
        "print(df_normalized.head())"
      ],
      "metadata": {
        "colab": {
          "base_uri": "https://localhost:8080/"
        },
        "id": "hynX-y4we3Nb",
        "outputId": "cd475fd4-4027-40ab-a74d-413291671775"
      },
      "execution_count": null,
      "outputs": [
        {
          "output_type": "stream",
          "name": "stdout",
          "text": [
            "\n",
            "Primeiras 5 linhas dos dados normalizados (treino):\n",
            "   sepal length (cm)  sepal width (cm)  petal length (cm)  petal width (cm)\n",
            "0           0.222222          0.208333           0.327586          0.416667\n",
            "1           0.527778          0.083333           0.586207          0.583333\n",
            "2           0.222222          0.750000           0.068966          0.083333\n",
            "3           0.694444          0.500000           0.827586          0.916667\n",
            "4           0.388889          0.333333           0.517241          0.500000\n"
          ]
        }
      ]
    },
    {
      "cell_type": "code",
      "source": [
        "# Visualização da distribuição após a normalização (exemplo para uma característica)\n",
        "plt.figure(figsize=(8, 6))\n",
        "sns.histplot(df_normalized['sepal length (cm)'], kde=True)\n",
        "plt.title('Distribuição do Comprimento da Sépala (Normalizado)')\n",
        "plt.xlabel('Comprimento da Sépala Normalizado')\n",
        "plt.ylabel('Frequência')\n",
        "plt.show()"
      ],
      "metadata": {
        "id": "y5Ni6N10HDDU",
        "colab": {
          "base_uri": "https://localhost:8080/",
          "height": 565
        },
        "outputId": "d92294bb-7a4a-4347-c2e6-3bef6ee48fd1"
      },
      "execution_count": null,
      "outputs": [
        {
          "output_type": "display_data",
          "data": {
            "text/plain": [
              "<Figure size 800x600 with 1 Axes>"
            ],
            "image/png": "[encoded data removed]"
          },
          "metadata": {}
        }
      ]
    },
    {
      "cell_type": "markdown",
      "source": [
        "O histograma de *sepal length* após a normalização mostra que os valores foram escalados para o intervalo de 0 a 1, mantendo a forma da distribuição original."
      ],
      "metadata": {
        "id": "Eyb-mWfqHDDU"
      }
    },
    {
      "cell_type": "markdown",
      "source": [
        "## Padronização\n",
        "\n",
        "A padronização (ou Z-score scaling) transforma os dados para ter média 0 e desvio padrão 1. É útil para algoritmos que são sensíveis à escala das características, como SVMs ou redes neurais."
      ],
      "metadata": {
        "id": "UOSAwBz0GOAM"
      }
    },
    {
      "cell_type": "code",
      "source": [
        "# Inicializar o StandardScaler\n",
        "scaler_std = StandardScaler()"
      ],
      "metadata": {
        "id": "08rFvjoEGxb_"
      },
      "execution_count": null,
      "outputs": []
    },
    {
      "cell_type": "code",
      "source": [
        "# Aprende média e desvio padrão APENAS de X_train\n",
        "scaler_std.fit(X_train)\n",
        "X_train_standardized = scaler_std.transform(X_train)\n",
        "# Usa a média e o desvio padrão aprendidos de X_train\n",
        "X_test_standardized = scaler_std.transform(X_test)"
      ],
      "metadata": {
        "id": "HxKYatnGe96h"
      },
      "execution_count": null,
      "outputs": []
    },
    {
      "cell_type": "code",
      "source": [
        "# Exibir as primeiras linhas dos dados padronizados (como DataFrame para melhor visualização)\n",
        "df_standardized = pd.DataFrame(X_train_standardized, columns=X_train.columns)"
      ],
      "metadata": {
        "id": "U5wlJdHKfDdp"
      },
      "execution_count": null,
      "outputs": []
    },
    {
      "cell_type": "code",
      "source": [
        "print(\"\\nPrimeiras 5 linhas dos dados padronizados (treino):\")\n",
        "print(df_standardized.head())"
      ],
      "metadata": {
        "colab": {
          "base_uri": "https://localhost:8080/"
        },
        "id": "fuEUapx7fEzE",
        "outputId": "a917891c-633d-41e7-9511-0f2941623042"
      },
      "execution_count": null,
      "outputs": [
        {
          "output_type": "stream",
          "name": "stdout",
          "text": [
            "\n",
            "Primeiras 5 linhas dos dados padronizados (treino):\n",
            "   sepal length (cm)  sepal width (cm)  petal length (cm)  petal width (cm)\n",
            "0          -0.900459         -1.220248          -0.441986         -0.136610\n",
            "1           0.380366         -1.879558           0.402829          0.380294\n",
            "2          -0.900459          1.636764          -1.286801         -1.170419\n",
            "3           1.078998          0.318143           1.191323          1.414103\n",
            "4          -0.201827         -0.560937           0.177545          0.121842\n"
          ]
        }
      ]
    },
    {
      "cell_type": "code",
      "source": [
        "# Visualização da distribuição após a padronização (exemplo para uma característica)\n",
        "plt.figure(figsize=(8, 6))\n",
        "sns.histplot(df_standardized['sepal length (cm)'], kde=True)\n",
        "plt.title('Distribuição do Comprimento da Sépala (Padronizado)')\n",
        "plt.xlabel('Comprimento da Sépala Padronizado')\n",
        "plt.ylabel('Frequência')\n",
        "plt.show()"
      ],
      "metadata": {
        "id": "fyfnu7jSGxcA",
        "colab": {
          "base_uri": "https://localhost:8080/",
          "height": 565
        },
        "outputId": "83a9c242-50bc-4e2a-abcd-5233cba9db05"
      },
      "execution_count": null,
      "outputs": [
        {
          "output_type": "display_data",
          "data": {
            "text/plain": [
              "<Figure size 800x600 with 1 Axes>"
            ],
            "image/png": "[encoded data removed]"
          },
          "metadata": {}
        }
      ]
    },
    {
      "cell_type": "markdown",
      "source": [
        "O histograma de *sepal length* após a padronização mostra que os valores foram transformados para ter uma média próxima de zero e um desvio padrão de um, centralizando a distribuição."
      ],
      "metadata": {
        "id": "zmeMPbfhGxcA"
      }
    },
    {
      "cell_type": "markdown",
      "source": [
        "## Tratamento de Valores Nulos\n",
        "\n",
        "O dataset Iris original não possui valores nulos. No entanto, o tratamento de valores nulos é crucial e pode envolver imputação (preenchimento com média, mediana, moda) ou remoção de linhas/colunas."
      ],
      "metadata": {
        "id": "UC1f5d_BGTVB"
      }
    },
    {
      "cell_type": "code",
      "source": [
        "# Verificar a presença de valores nulos no dataset original\n",
        "print(\"Valores nulos no dataset Iris:\")\n",
        "df.isnull().sum()"
      ],
      "metadata": {
        "id": "fNQUvAnwG8fL",
        "colab": {
          "base_uri": "https://localhost:8080/",
          "height": 258
        },
        "outputId": "04167a3e-4be3-4b47-ce03-288ba83c095e"
      },
      "execution_count": null,
      "outputs": [
        {
          "output_type": "stream",
          "name": "stdout",
          "text": [
            "Valores nulos no dataset Iris:\n"
          ]
        },
        {
          "output_type": "execute_result",
          "data": {
            "text/plain": [
              "sepal length (cm)    0\n",
              "sepal width (cm)     0\n",
              "petal length (cm)    0\n",
              "petal width (cm)     0\n",
              "species              0\n",
              "dtype: int64"
            ],
            "text/html": [
              "<div>\n",
              "<style scoped>\n",
              "    .dataframe tbody tr th:only-of-type {\n",
              "        vertical-align: middle;\n",
              "    }\n",
              "\n",
              "    .dataframe tbody tr th {\n",
              "        vertical-align: top;\n",
              "    }\n",
              "\n",
              "    .dataframe thead th {\n",
              "        text-align: right;\n",
              "    }\n",
              "</style>\n",
              "<table border=\"1\" class=\"dataframe\">\n",
              "  <thead>\n",
              "    <tr style=\"text-align: right;\">\n",
              "      <th></th>\n",
              "      <th>0</th>\n",
              "    </tr>\n",
              "  </thead>\n",
              "  <tbody>\n",
              "    <tr>\n",
              "      <th>sepal length (cm)</th>\n",
              "      <td>0</td>\n",
              "    </tr>\n",
              "    <tr>\n",
              "      <th>sepal width (cm)</th>\n",
              "      <td>0</td>\n",
              "    </tr>\n",
              "    <tr>\n",
              "      <th>petal length (cm)</th>\n",
              "      <td>0</td>\n",
              "    </tr>\n",
              "    <tr>\n",
              "      <th>petal width (cm)</th>\n",
              "      <td>0</td>\n",
              "    </tr>\n",
              "    <tr>\n",
              "      <th>species</th>\n",
              "      <td>0</td>\n",
              "    </tr>\n",
              "  </tbody>\n",
              "</table>\n",
              "</div><br><label><b>dtype:</b> int64</label>"
            ]
          },
          "metadata": {},
          "execution_count": 32
        }
      ]
    },
    {
      "cell_type": "markdown",
      "source": [
        "## Outras Transformações e Etapas de Pré-Processamento\n",
        "\n",
        "Outras etapas de pré-processamento incluem a seleção de características, redução de dimensionalidade (como PCA) ou criação de novas características (feature engineering). O que você faria a mais?\n",
        "\n"
      ],
      "metadata": {
        "id": "rBl8S0hDGap4"
      }
    },
    {
      "cell_type": "markdown",
      "source": [
        "# Conclusão\n",
        "\n",
        "A análise e pré-processamento do dataset Iris demonstram a importância de entender a estrutura dos dados antes da modelagem. O dataset é limpo e balanceado, com características numéricas bem definidas que permitem uma clara separação entre as espécies, especialmente a Iris setosa. A análise exploratória revelou correlações importantes entre as características e a eficácia de visualizações como boxplots para distinguir as classes. As etapas de normalização e padronização são fundamentais para preparar os dados para diversos algoritmos de aprendizado de máquina, garantindo que o modelo possa aprender eficientemente com as relações presentes nos dados.\n",
        "\n",
        "As três hipóteses levantadas foram validadas:\n",
        "\n",
        "1.   *As diferentes espécies de Íris podem ser distinguidas com base nas medições de suas sépalas e pétalas?* Sim, dado as análises que fizemos no boxplot, observamos um comportamento muito claro e distinto.\n",
        "\n",
        "2.   *Existe uma correlação entre comprimento da pétala e largura da pétala?* Existe forte correlação entre os atributos *petal length* e *petal width*.\n",
        "\n",
        "3.   *A espécie Iris setosa é mais facilmente separável das outras duas espécies?* Sim, devido às suas características distintas de menor comprimento e largura da pétala."
      ],
      "metadata": {
        "id": "OY_GDjf1G-PM"
      }
    }
  ]
}